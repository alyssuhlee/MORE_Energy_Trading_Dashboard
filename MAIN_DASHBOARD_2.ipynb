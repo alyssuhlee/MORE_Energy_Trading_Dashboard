{
 "cells": [
  {
   "cell_type": "code",
   "execution_count": 56,
   "metadata": {},
   "outputs": [],
   "source": [
    "import mysql.connector\n",
    "import pandas as pd\n",
    "\n",
    "def load_data():\n",
    "    # Establish the database connection\n",
    "    conn = mysql.connector.connect(\n",
    "        host=\"localhost\",\n",
    "        user=\"root\",\n",
    "        password=\"\",\n",
    "        database=\"myDb\"\n",
    "    ) \n",
    "\n",
    "    # Query the data\n",
    "    query = \"SELECT * FROM station_load_graph\"\n",
    "    df = pd.read_sql(query, conn)\n",
    "    # Close the connection\n",
    "    conn.close()\n",
    "    return df"
   ]
  },
  {
   "cell_type": "code",
   "execution_count": 57,
   "metadata": {},
   "outputs": [
    {
     "name": "stderr",
     "output_type": "stream",
     "text": [
      "C:\\Users\\aslee\\AppData\\Local\\Temp\\ipykernel_26404\\490090805.py:15: UserWarning: pandas only supports SQLAlchemy connectable (engine/connection) or database string URI or sqlite3 DBAPI2 connection. Other DBAPI2 objects are not tested. Please consider using SQLAlchemy.\n",
      "  df = pd.read_sql(query, conn)\n"
     ]
    }
   ],
   "source": [
    "# Load data\n",
    "df = load_data()"
   ]
  },
  {
   "cell_type": "code",
   "execution_count": 58,
   "metadata": {},
   "outputs": [],
   "source": [
    "from datetime import datetime\n",
    "now = datetime.now()\n",
    "current_hour = int(now.strftime(\"%H\"))"
   ]
  },
  {
   "cell_type": "code",
   "execution_count": 59,
   "metadata": {},
   "outputs": [
    {
     "name": "stdout",
     "output_type": "stream",
     "text": [
      "12\n"
     ]
    }
   ],
   "source": [
    "print(current_hour)"
   ]
  },
  {
   "cell_type": "code",
   "execution_count": 62,
   "metadata": {},
   "outputs": [
    {
     "name": "stdout",
     "output_type": "stream",
     "text": [
      "Matching row found:\n",
      "    id  Hour  Lapaz  Jaro  Mandurriao  Molo  Diversion  Mobile SS 1  \\\n",
      "12  69    13  30439  6317       18545     0      14255            0   \n",
      "\n",
      "    Mobile SS 2  Megaworld  \n",
      "12        20077      25359  \n"
     ]
    },
    {
     "name": "stderr",
     "output_type": "stream",
     "text": [
      "2024-07-09 13:04:24.566 \n",
      "  \u001b[33m\u001b[1mWarning:\u001b[0m to view this Streamlit app on a browser, run it with the following\n",
      "  command:\n",
      "\n",
      "    streamlit run C:\\Users\\aslee\\AppData\\Local\\Packages\\PythonSoftwareFoundation.Python.3.11_qbz5n2kfra8p0\\LocalCache\\local-packages\\Python311\\site-packages\\ipykernel_launcher.py [ARGUMENTS]\n"
     ]
    }
   ],
   "source": [
    "import streamlit as st\n",
    "\n",
    "# Get the current hour\n",
    "now = datetime.now()\n",
    "current_hour = int(now.strftime(\"%H\"))\n",
    "\n",
    "# Find the row where the hour matches the current hour\n",
    "matching_row = df[df['Hour'] == current_hour]\n",
    "\n",
    "# Check if a matching row was found and print it\n",
    "if not matching_row.empty:\n",
    "    print(\"Matching row found:\")\n",
    "    print(matching_row)\n",
    "    # To get a specific cell in the matching row, e.g., the value in 'Column1'\n",
    "    hour_value = matching_row.iloc[0]['Hour']\n",
    "    lapaz_value = matching_row.iloc[0]['Lapaz']\n",
    "    jaro_value = matching_row.iloc[0]['Jaro']\n",
    "    mandurriao_value = matching_row.iloc[0]['Mandurriao']\n",
    "    molo_value = matching_row.iloc[0]['Molo']\n",
    "    diversion_value = matching_row.iloc[0]['Diversion']\n",
    "    mobile_ss1_value = matching_row.iloc[0]['Mobile SS 1']\n",
    "    mobile_ss2_value = matching_row.iloc[0]['Mobile SS 2']\n",
    "    megaworld_value = matching_row.iloc[0]['Megaworld']\n",
    "\n",
    "    # Prepare data for the bar chart\n",
    "    chart_data = pd.DataFrame({\n",
    "        'Substation': ['Lapaz', 'Jaro', 'Mandurriao', 'Molo', 'Diversion', 'Mobile SS 1', 'Mobile SS 2', 'Megaworld'],\n",
    "        'Value': [lapaz_value, jaro_value, mandurriao_value, molo_value, diversion_value, mobile_ss1_value, mobile_ss2_value, megaworld_value]\n",
    "    })\n",
    "    # Display the bar chart\n",
    "    st.bar_chart(chart_data.set_index('Substation'))\n",
    "else:\n",
    "    st.write(\"No matching row found for the current hour.\")"
   ]
  },
  {
   "cell_type": "code",
   "execution_count": 61,
   "metadata": {},
   "outputs": [
    {
     "name": "stdout",
     "output_type": "stream",
     "text": [
      "Hour:  12\n",
      "Lapaz:  31186\n",
      "Jaro:  6326\n",
      "Mandurriao:  18210\n",
      "Molo:  0\n",
      "Diversion:  14105\n",
      "Mobile SS 1:  0\n",
      "Mobile SS 2:  19095\n",
      "Megaworld:  25003\n"
     ]
    }
   ],
   "source": [
    "print(\"Hour: \", hour_value)\n",
    "print(\"Lapaz: \", lapaz_value)\n",
    "print(\"Jaro: \", jaro_value)\n",
    "print(\"Mandurriao: \", mandurriao_value)\n",
    "print(\"Molo: \", molo_value)\n",
    "print(\"Diversion: \", diversion_value)\n",
    "print(\"Mobile SS 1: \", mobile_ss1_value)\n",
    "print(\"Mobile SS 2: \", mobile_ss2_value)\n",
    "print(\"Megaworld: \", megaworld_value)"
   ]
  },
  {
   "cell_type": "code",
   "execution_count": null,
   "metadata": {},
   "outputs": [],
   "source": [
    "import streamlit as st\n",
    "\n",
    "# Prepare data for the bar chart\n",
    "chart_data = pd.DataFrame({\n",
    "        'Substation': ['Lapaz', 'Jaro', 'Mandurriao', 'Molo', 'Diversion', 'Mobile SS 1', 'Mobile SS 2', 'Megaworld'],\n",
    "        'Value': [lapaz_value, jaro_value, mandurriao_value, molo_value, diversion_value, mobile_ss1_value, mobile_ss2_value, megaworld_value]\n",
    "    })\n",
    "\n",
    "# Display the bar chart\n",
    "st.bar_chart(chart_data.set_index('Substation'))\n",
    "else:\n",
    "    st.write(\"No matching row found for the current hour.\")"
   ]
  }
 ],
 "metadata": {
  "kernelspec": {
   "display_name": "Python 3",
   "language": "python",
   "name": "python3"
  },
  "language_info": {
   "codemirror_mode": {
    "name": "ipython",
    "version": 3
   },
   "file_extension": ".py",
   "mimetype": "text/x-python",
   "name": "python",
   "nbconvert_exporter": "python",
   "pygments_lexer": "ipython3",
   "version": "3.11.9"
  }
 },
 "nbformat": 4,
 "nbformat_minor": 2
}
