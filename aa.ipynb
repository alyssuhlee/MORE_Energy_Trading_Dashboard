{
 "cells": [
  {
   "cell_type": "code",
   "execution_count": 2,
   "metadata": {},
   "outputs": [
    {
     "name": "stdout",
     "output_type": "stream",
     "text": [
      "2024-07-01 20:29:46.628439\n"
     ]
    }
   ],
   "source": [
    "from datetime import datetime\n",
    "now = datetime.now()\n",
    "print(now)"
   ]
  },
  {
   "cell_type": "code",
   "execution_count": 5,
   "metadata": {},
   "outputs": [
    {
     "name": "stdout",
     "output_type": "stream",
     "text": [
      "Index(['HOUR', '03BOTOCA_G01', '03CALACA_G01', '03CALACA_G02', '03KAL_G01',\n",
      "       '03KAL_G02', '03KAL_G03', '03KAL_G04', '04LEYTE_A', '05KSPC_G01',\n",
      "       '05KSPC_G02', '08BANTAP_L01', '08PEDC_T1L1', '08PEDC_T1L2',\n",
      "       '08STBAR_T1L1'],\n",
      "      dtype='object')\n"
     ]
    }
   ],
   "source": [
    "import pandas as pd\n",
    "\n",
    "data = {\n",
    "        \"HOUR\": [\"01\", \"02\", \"03\", \"04\", \"05\", \"06\", \"07\", \"08\", \"09\", \"10\", \"11\", \"12\", \"13\", \"14\", \"15\", \"16\", \"17\", \"18\", \"19\", \"20\", \"21\", \"22\", \"23\", \"24\"],\n",
    "        \"03BOTOCA_G01\": [0.5, 1.0, 1.5, 2.0, 2.5, 3.0, 3.5, 4.0, 4.5, 5.0, 5.5, 6.0, 6.5, 7.0, 7.5, 8.0, 8.5, 9.0, 9.5, 10.0, 10.5, 11.0, 11.5, 12],\n",
    "        \"03CALACA_G01\": [0.5, 1.0, 1.5, 2.0, 2.5, 3.0, 3.5, 4.0, 4.5, 5.0, 5.5, 6.0, 6.5, 7.0, 7.5, 8.0, 8.5, 9.0, 9.5, 10.0, 10.5, 11.0, 11.5, 12],\n",
    "        \"03CALACA_G02\": [0.5, 1.0, 1.5, 2.0, 2.5, 3.0, 3.5, 4.0, 4.5, 5.0, 5.5, 6.0, 6.5, 7.0, 7.5, 8.0, 8.5, 9.0, 9.5, 10.0, 10.5, 11.0, 11.5, 12],\n",
    "        \"03KAL_G01\": [0.5, 1.0, 1.5, 2.0, 2.5, 3.0, 3.5, 4.0, 4.5, 5.0, 5.5, 6.0, 6.5, 7.0, 7.5, 8.0, 8.5, 9.0, 9.5, 10.0, 10.5, 11.0, 11.5, 12], \n",
    "        \"03KAL_G02\": [0.5, 1.0, 1.5, 2.0, 2.5, 3.0, 3.5, 4.0, 4.5, 5.0, 5.5, 6.0, 6.5, 7.0, 7.5, 8.0, 8.5, 9.0, 9.5, 10.0, 10.5, 11.0, 11.5, 12], \n",
    "        \"03KAL_G03\": [0.5, 1.0, 1.5, 2.0, 2.5, 3.0, 3.5, 4.0, 4.5, 5.0, 5.5, 6.0, 6.5, 7.0, 7.5, 8.0, 8.5, 9.0, 9.5, 10.0, 10.5, 11.0, 11.5, 12],\n",
    "        \"03KAL_G04\": [0.5, 1.0, 1.5, 2.0, 2.5, 3.0, 3.5, 4.0, 4.5, 5.0, 5.5, 6.0, 6.5, 7.0, 7.5, 8.0, 8.5, 9.0, 9.5, 10.0, 10.5, 11.0, 11.5, 12],\n",
    "        \"04LEYTE_A\": [0.5, 1.0, 1.5, 2.0, 2.5, 3.0, 3.5, 4.0, 4.5, 5.0, 5.5, 6.0, 6.5, 7.0, 7.5, 8.0, 8.5, 9.0, 9.5, 10.0, 10.5, 11.0, 11.5, 12],\n",
    "        \"05KSPC_G01\": [0.5, 1.0, 1.5, 2.0, 2.5, 3.0, 3.5, 4.0, 4.5, 5.0, 5.5, 6.0, 6.5, 7.0, 7.5, 8.0, 8.5, 9.0, 9.5, 10.0, 10.5, 11.0, 11.5, 12],\n",
    "        \"05KSPC_G02\": [0.5, 1.0, 1.5, 2.0, 2.5, 3.0, 3.5, 4.0, 4.5, 5.0, 5.5, 6.0, 6.5, 7.0, 7.5, 8.0, 8.5, 9.0, 9.5, 10.0, 10.5, 11.0, 11.5, 12], \n",
    "        \"08BANTAP_L01\": [0.5, 1.0, 1.5, 2.0, 2.5, 3.0, 3.5, 4.0, 4.5, 5.0, 5.5, 6.0, 6.5, 7.0, 7.5, 8.0, 8.5, 9.0, 9.5, 10.0, 10.5, 11.0, 11.5, 12],\n",
    "        \"08PEDC_T1L1\": [0.5, 1.0, 1.5, 2.0, 2.5, 3.0, 3.5, 4.0, 4.5, 5.0, 5.5, 6.0, 6.5, 7.0, 7.5, 8.0, 8.5, 9.0, 9.5, 10.0, 10.5, 11.0, 11.5, 12],\n",
    "        \"08PEDC_T1L2\": [0.5, 1.0, 1.5, 2.0, 2.5, 3.0, 3.5, 4.0, 4.5, 5.0, 5.5, 6.0, 6.5, 7.0, 7.5, 8.0, 8.5, 9.0, 9.5, 10.0, 10.5, 11.0, 11.5, 12],\n",
    "        \"08STBAR_T1L1\": [0.5, 1.0, 1.5, 2.0, 2.5, 3.0, 3.5, 4.0, 4.5, 5.0, 5.5, 6.0, 6.5, 7.0, 7.5, 8.0, 8.5, 9.0, 9.5, 10.0, 10.5, 11.0, 11.5, 12]\n",
    "    }\n",
    "\n",
    "# Create a DataFrame\n",
    "df_tipc = pd.DataFrame(data)\n",
    "\n",
    "print(df_tipc.columns)"
   ]
  },
  {
   "cell_type": "code",
   "execution_count": 2,
   "metadata": {},
   "outputs": [
    {
     "name": "stdout",
     "output_type": "stream",
     "text": [
      "['2024/07/24 08:54:02: Luzon Grid-07/24/2024 08:54: Tayabas-San Jose 500kV Line 1 tripped/reclosed at San Jose at 0848H. Looped at Tayabas at 0853H. (Unplanned Outage)  [WEBSMS]', '2024/07/24 08:42:46: Luzon Grid-07/24/2024 08:43: Tayabas-San Jose 500kV Line 1 tripped/reclosed both side at 0840H (Unplanned Outage)  [WEBSMS]', '2024/07/24 08:12:25: Luzon Grid-07/24/2024 08:12: SCPC 3 tripped with 139MW at 0810H. Lowest system frequency was 59.66Hz (Unplanned Outage)  [WEBSMS]', '2024/07/24 07:31:03: Luzon Grid-07/24/2024 07:31: Tayabas-San Jose 500kV Line 1 tripped/reclosed at Tayabas at 0725H. Looped at San Jose at 0726H. (Unplanned Outage)  [WEBSMS]', '2024/07/24 07:29:14: Luzon Grid-07/24/2024 07:29: Tayabas-San Jose 500kV Line 1 tripped/reclosed at San Jose at 0723H. Looped at Tayabas at 0725H. (Unplanned Outage)  [WEBSMS]', '2024/07/24 05:43:43: [NSO Update] Mindanao Grid-07/24/2024 05:50: GRID UPDATE AS OF 6:00 AM System Condition: NORMAL CAP=3077MW, PK=2336MW, RR=73MW, NetOpMargin: AM=667, PM=589, EVE=662 Highest Unit O/L: GNPK 1,2,3&4 @138MW Derated Plant: MCC @150MW, MPC @40MW, MA1 @37.5MW, MA2 @28.5MW [WEBSMS]', '2024/07/24 05:42:16: [NSO Update] Visayas Grid-07/24/2024 05:42: GRID UPDATE AS OF 6:00 AM System Condition: NORMAL CAP=2549MW, PK=2120MW, RR=86MW, NetOpMargin: AM=343, PM=176, EVE=175 Highest Unit O/L: THVI 1&2 @169MW Derated Plant: Leyte A @258MW, CEDC 3 @75MW, PB104-2 @4.5MW, PB104-4 @6.5MW, PDPP1-2 @4MW, PDPP1-5 @4MW [WEBSMS]', '2024/07/24 05:38:21: [NSO Update] Luzon Grid-07/24/2024 05:38: GRID UPDATE AS OF 6:00 AM System Condition: NORMAL CAP=13804MW, PK=10384MW, RR=427MW, NetOpMargin: AM=2993, PM=3010, EVE=2924 Highest Unit O/L: GNPD 1 @668MW Derated Plant: SLTEC 1 @49MW, SLPGC 2 @120MW, Limay 8 @60MW, Masinloc 1 @300MW, SCPC 1 @125MW, Masinloc 3 @320MW [WEBSMS]', '2024/07/24 04:35:38: [NSO Update] Luzon Grid-07/24/2024 04:35: Weather Update: At 3:00 AM today, the center of the eye of Typhoon \"CARINA\" (GAEMI) was estimated based on all available data at 280 km Northeast of Itbayat, Batanes (22.8N, 123.5E) with maximum sustained winds of 155 km/h near the center and gustiness of up to 190 km/h. It is moving Northwestward at 25 km/h.  [WEBSMS]', '2024/07/24 04:33:53: [NSO Update] Visayas Grid-07/24/2024 04:34: Weather Update: At 3:00 AM today, the center of the eye of Typhoon \"CARINA\" (GAEMI) was estimated based on all available data at 280 km Northeast of Itbayat, Batanes (22.8N, 123.5E) with maximum sustained winds of 155 km/h near the center and gustiness of up to 190 km/h. It is moving Northwestward at 25 km/h.  [WEBSMS]']\n"
     ]
    }
   ],
   "source": [
    "import pandas as pd\n",
    "\n",
    "# Load your Excel file\n",
    "excel_file = r\"C:\\Users\\aslee\\OneDrive - MORE ELECTRIC AND POWER CORPORATION\\Desktop\\DASHBOARD_FINAL\\SO_ADVISORIES.xlsx\"\n",
    "df = pd.read_excel(excel_file)\n",
    "\n",
    "# Convert TIME_MESSAGE to datetime format (if it's not already)\n",
    "df['TIME_MESSAGE'] = pd.to_datetime(df['TIME_MESSAGE'], errors='coerce')\n",
    "\n",
    "# Drop rows where TIME_MESSAGE couldn't be converted to datetime (if needed)\n",
    "df = df.dropna(subset=['TIME_MESSAGE'])\n",
    "\n",
    "# Sort dataframe by TIME_MESSAGE in descending order\n",
    "df = df.sort_values(by='TIME_MESSAGE', ascending=False)\n",
    "\n",
    "# Function to fetch latest 10 entries\n",
    "def fetch_latest_10_entries():\n",
    "    latest_10_entries = df.head(10)\n",
    "    return latest_10_entries\n",
    "\n",
    "# Prepare the initial data for scrolling\n",
    "scrollable_content = []\n",
    "latest_10_entries = fetch_latest_10_entries()\n",
    "for index, row in latest_10_entries.iterrows():\n",
    "    time_message = row['TIME_MESSAGE'].strftime('%Y/%m/%d %H:%M:%S')\n",
    "    message = row['MESSAGE']\n",
    "    entry_text = f\"{time_message}: {message}\"\n",
    "    scrollable_content.append(entry_text)\n",
    "\n",
    "print(scrollable_content)"
   ]
  }
 ],
 "metadata": {
  "kernelspec": {
   "display_name": "Python 3",
   "language": "python",
   "name": "python3"
  },
  "language_info": {
   "codemirror_mode": {
    "name": "ipython",
    "version": 3
   },
   "file_extension": ".py",
   "mimetype": "text/x-python",
   "name": "python",
   "nbconvert_exporter": "python",
   "pygments_lexer": "ipython3",
   "version": "3.11.9"
  }
 },
 "nbformat": 4,
 "nbformat_minor": 2
}
