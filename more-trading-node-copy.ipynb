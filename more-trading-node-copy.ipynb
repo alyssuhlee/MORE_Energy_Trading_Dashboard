{
 "cells": [
  {
   "cell_type": "code",
   "execution_count": 1,
   "metadata": {},
   "outputs": [],
   "source": [
    "from ftplib import FTP\n",
    "from datetime import datetime\n",
    "import os\n",
    "import ftplib\n",
    "import time\n",
    "import re\n",
    "import shutil"
   ]
  },
  {
   "cell_type": "code",
   "execution_count": 2,
   "metadata": {},
   "outputs": [],
   "source": [
    "# Connect to the FTP server\n",
    "ftp = FTP(\"120.28.19.206\")"
   ]
  },
  {
   "cell_type": "code",
   "execution_count": 3,
   "metadata": {},
   "outputs": [
    {
     "data": {
      "text/plain": [
       "'230 User logged in.'"
      ]
     },
     "execution_count": 3,
     "metadata": {},
     "output_type": "execute_result"
    }
   ],
   "source": [
    "# Login to the FTP server\n",
    "ftp.login(user=\"MORE_01\", passwd=\"ar@pNkRW4v\")"
   ]
  },
  {
   "cell_type": "code",
   "execution_count": 4,
   "metadata": {},
   "outputs": [
    {
     "data": {
      "text/plain": [
       "'250 CWD command successful.'"
      ]
     },
     "execution_count": 4,
     "metadata": {},
     "output_type": "execute_result"
    }
   ],
   "source": [
    "ftp.cwd('/LMP/DIPC/')"
   ]
  },
  {
   "cell_type": "code",
   "execution_count": 5,
   "metadata": {},
   "outputs": [],
   "source": [
    "# Function to download files from the FTP server\n",
    "def download_files():\n",
    "    now = datetime.now()  # current date and time\n",
    "    date_today = now.strftime(\"%Y%m%d\")\n",
    "\n",
    "    ftp_folder_path = \"/LMP/DIPC/\"\n",
    "    local_folder_path = r\"C:\\Users\\aslee\\OneDrive - MORE ELECTRIC AND POWER CORPORATION\\Desktop\\DASHBOARD_FINAL\\MORE Trading Node\"\n",
    "\n",
    "    # List the files in the FTP directory\n",
    "    files = ftp.nlst()\n",
    "\n",
    "    for addtl_folder in files:\n",
    "        # if the filename is the same with the date today\n",
    "        if addtl_folder == date_today:\n",
    "            ftp_folder_file = f\"/LMP/DIPC/{addtl_folder}\"\n",
    "            local_folder_file = os.path.join(local_folder_path, addtl_folder)\n",
    "\n",
    "            print(f\"Checking FTP folder path: {ftp_folder_file}\")\n",
    "            print(f\"Checking local folder path: {local_folder_file}\")\n",
    "\n",
    "            # Check if the folder exists on the FTP server\n",
    "            folder_exists = True\n",
    "            try:\n",
    "                ftp.cwd(ftp_folder_file)\n",
    "            except ftplib.error_perm as e:\n",
    "                folder_exists = False\n",
    "                print(f\"FTP folder does not exist: {ftp_folder_file}\")\n",
    "\n",
    "            if folder_exists:\n",
    "                # Ensure the destination folder exists\n",
    "                if not os.path.exists(local_folder_file):\n",
    "                    os.makedirs(local_folder_file)\n",
    "\n",
    "                # Download the files from the FTP server to the local folder\n",
    "                filenames = ftp.nlst()\n",
    "                for filename in filenames:\n",
    "                    local_folder_path = r\"C:\\Users\\aslee\\OneDrive - MORE ELECTRIC AND POWER CORPORATION\\Desktop\\DASHBOARD_FINAL\\MORE Trading Node\"\n",
    "                    try:\n",
    "                        with open(local_folder_path, 'wb') as local_file:\n",
    "                          ftp.retrbinary('RETR ' + filename, local_file.write)\n",
    "                        print(f\"Copied {filename} to {local_folder_path}\")\n",
    "                        # After copy to local filepath (paayos nalang indentation if ever di sakto)\n",
    "                        match = re.search(r\"MPI_LMP_DIPC_(\\d{8})(\\d{2})(\\d{2})\", filename)\n",
    "                        if match:\n",
    "                            date = match.group(1)\n",
    "                            time_hh = int(match.group(2))\n",
    "                            time_ss = int(match.group(3))\n",
    "\n",
    "                        if (time_ss == 0):\n",
    "                            if (time_hh == 0):\n",
    "                              sorted_directory = os.path.join(local_folder_path, date, \"23\")\n",
    "                            else:\n",
    "                              sorted_directory = os.path.join(local_folder_path, date, str(time_hh-1))\n",
    "                        else:\n",
    "                            sorted_directory = os.path.join(local_folder_path, date, str(time_hh))\n",
    "                        print(f\"DEBUG sorted directory: {sorted_directory}\")\n",
    "                        os.makedirs(sorted_directory, exist_ok=True)\n",
    "                        # Move the file to the sorted directory\n",
    "                        shutil.move(filename, sorted_directory)\n",
    "                    except ftplib.error_perm as e:\n",
    "                        print(f\"Could not copy {filename}: {e}\")"
   ]
  },
  {
   "cell_type": "code",
   "execution_count": 6,
   "metadata": {},
   "outputs": [
    {
     "name": "stdout",
     "output_type": "stream",
     "text": [
      "Checking FTP folder path: /LMP/DIPC/20240708\n",
      "Checking local folder path: C:\\Users\\aslee\\OneDrive - MORE ELECTRIC AND POWER CORPORATION\\Desktop\\DASHBOARD_FINAL\\MORE Trading Node\\20240708\n"
     ]
    },
    {
     "ename": "PermissionError",
     "evalue": "[Errno 13] Permission denied: 'C:\\\\Users\\\\aslee\\\\OneDrive - MORE ELECTRIC AND POWER CORPORATION\\\\Desktop\\\\DASHBOARD_FINAL\\\\MORE Trading Node'",
     "output_type": "error",
     "traceback": [
      "\u001b[1;31m---------------------------------------------------------------------------\u001b[0m",
      "\u001b[1;31mPermissionError\u001b[0m                           Traceback (most recent call last)",
      "Cell \u001b[1;32mIn[6], line 3\u001b[0m\n\u001b[0;32m      1\u001b[0m \u001b[38;5;66;03m# Main loop to check for new files every 5 minutes\u001b[39;00m\n\u001b[0;32m      2\u001b[0m \u001b[38;5;28;01mwhile\u001b[39;00m \u001b[38;5;28;01mTrue\u001b[39;00m:\n\u001b[1;32m----> 3\u001b[0m     \u001b[43mdownload_files\u001b[49m\u001b[43m(\u001b[49m\u001b[43m)\u001b[49m\n\u001b[0;32m      4\u001b[0m     time\u001b[38;5;241m.\u001b[39msleep(\u001b[38;5;241m300\u001b[39m)  \u001b[38;5;66;03m# Sleep for 5 minutes\u001b[39;00m\n",
      "Cell \u001b[1;32mIn[5], line 39\u001b[0m, in \u001b[0;36mdownload_files\u001b[1;34m()\u001b[0m\n\u001b[0;32m     37\u001b[0m local_folder_path \u001b[38;5;241m=\u001b[39m \u001b[38;5;124mr\u001b[39m\u001b[38;5;124m\"\u001b[39m\u001b[38;5;124mC:\u001b[39m\u001b[38;5;124m\\\u001b[39m\u001b[38;5;124mUsers\u001b[39m\u001b[38;5;124m\\\u001b[39m\u001b[38;5;124maslee\u001b[39m\u001b[38;5;124m\\\u001b[39m\u001b[38;5;124mOneDrive - MORE ELECTRIC AND POWER CORPORATION\u001b[39m\u001b[38;5;124m\\\u001b[39m\u001b[38;5;124mDesktop\u001b[39m\u001b[38;5;124m\\\u001b[39m\u001b[38;5;124mDASHBOARD_FINAL\u001b[39m\u001b[38;5;124m\\\u001b[39m\u001b[38;5;124mMORE Trading Node\u001b[39m\u001b[38;5;124m\"\u001b[39m\n\u001b[0;32m     38\u001b[0m \u001b[38;5;28;01mtry\u001b[39;00m:\n\u001b[1;32m---> 39\u001b[0m     \u001b[38;5;28;01mwith\u001b[39;00m \u001b[38;5;28;43mopen\u001b[39;49m\u001b[43m(\u001b[49m\u001b[43mlocal_folder_path\u001b[49m\u001b[43m,\u001b[49m\u001b[43m \u001b[49m\u001b[38;5;124;43m'\u001b[39;49m\u001b[38;5;124;43mwb\u001b[39;49m\u001b[38;5;124;43m'\u001b[39;49m\u001b[43m)\u001b[49m \u001b[38;5;28;01mas\u001b[39;00m local_file:\n\u001b[0;32m     40\u001b[0m       ftp\u001b[38;5;241m.\u001b[39mretrbinary(\u001b[38;5;124m'\u001b[39m\u001b[38;5;124mRETR \u001b[39m\u001b[38;5;124m'\u001b[39m \u001b[38;5;241m+\u001b[39m filename, local_file\u001b[38;5;241m.\u001b[39mwrite)\n\u001b[0;32m     41\u001b[0m     \u001b[38;5;28mprint\u001b[39m(\u001b[38;5;124mf\u001b[39m\u001b[38;5;124m\"\u001b[39m\u001b[38;5;124mCopied \u001b[39m\u001b[38;5;132;01m{\u001b[39;00mfilename\u001b[38;5;132;01m}\u001b[39;00m\u001b[38;5;124m to \u001b[39m\u001b[38;5;132;01m{\u001b[39;00mlocal_folder_path\u001b[38;5;132;01m}\u001b[39;00m\u001b[38;5;124m\"\u001b[39m)\n",
      "File \u001b[1;32m~\\AppData\\Local\\Packages\\PythonSoftwareFoundation.Python.3.11_qbz5n2kfra8p0\\LocalCache\\local-packages\\Python311\\site-packages\\IPython\\core\\interactiveshell.py:324\u001b[0m, in \u001b[0;36m_modified_open\u001b[1;34m(file, *args, **kwargs)\u001b[0m\n\u001b[0;32m    317\u001b[0m \u001b[38;5;28;01mif\u001b[39;00m file \u001b[38;5;129;01min\u001b[39;00m {\u001b[38;5;241m0\u001b[39m, \u001b[38;5;241m1\u001b[39m, \u001b[38;5;241m2\u001b[39m}:\n\u001b[0;32m    318\u001b[0m     \u001b[38;5;28;01mraise\u001b[39;00m \u001b[38;5;167;01mValueError\u001b[39;00m(\n\u001b[0;32m    319\u001b[0m         \u001b[38;5;124mf\u001b[39m\u001b[38;5;124m\"\u001b[39m\u001b[38;5;124mIPython won\u001b[39m\u001b[38;5;124m'\u001b[39m\u001b[38;5;124mt let you open fd=\u001b[39m\u001b[38;5;132;01m{\u001b[39;00mfile\u001b[38;5;132;01m}\u001b[39;00m\u001b[38;5;124m by default \u001b[39m\u001b[38;5;124m\"\u001b[39m\n\u001b[0;32m    320\u001b[0m         \u001b[38;5;124m\"\u001b[39m\u001b[38;5;124mas it is likely to crash IPython. If you know what you are doing, \u001b[39m\u001b[38;5;124m\"\u001b[39m\n\u001b[0;32m    321\u001b[0m         \u001b[38;5;124m\"\u001b[39m\u001b[38;5;124myou can use builtins\u001b[39m\u001b[38;5;124m'\u001b[39m\u001b[38;5;124m open.\u001b[39m\u001b[38;5;124m\"\u001b[39m\n\u001b[0;32m    322\u001b[0m     )\n\u001b[1;32m--> 324\u001b[0m \u001b[38;5;28;01mreturn\u001b[39;00m \u001b[43mio_open\u001b[49m\u001b[43m(\u001b[49m\u001b[43mfile\u001b[49m\u001b[43m,\u001b[49m\u001b[43m \u001b[49m\u001b[38;5;241;43m*\u001b[39;49m\u001b[43margs\u001b[49m\u001b[43m,\u001b[49m\u001b[43m \u001b[49m\u001b[38;5;241;43m*\u001b[39;49m\u001b[38;5;241;43m*\u001b[39;49m\u001b[43mkwargs\u001b[49m\u001b[43m)\u001b[49m\n",
      "\u001b[1;31mPermissionError\u001b[0m: [Errno 13] Permission denied: 'C:\\\\Users\\\\aslee\\\\OneDrive - MORE ELECTRIC AND POWER CORPORATION\\\\Desktop\\\\DASHBOARD_FINAL\\\\MORE Trading Node'"
     ]
    }
   ],
   "source": [
    "# Main loop to check for new files every 5 minutes\n",
    "while True:\n",
    "    download_files()\n",
    "    time.sleep(300)  # Sleep for 5 minutes"
   ]
  }
 ],
 "metadata": {
  "kernelspec": {
   "display_name": "Python 3",
   "language": "python",
   "name": "python3"
  },
  "language_info": {
   "codemirror_mode": {
    "name": "ipython",
    "version": 3
   },
   "file_extension": ".py",
   "mimetype": "text/x-python",
   "name": "python",
   "nbconvert_exporter": "python",
   "pygments_lexer": "ipython3",
   "version": "3.11.9"
  }
 },
 "nbformat": 4,
 "nbformat_minor": 2
}
