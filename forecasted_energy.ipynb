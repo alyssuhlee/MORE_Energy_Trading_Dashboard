{
 "cells": [
  {
   "cell_type": "code",
   "execution_count": 1,
   "metadata": {},
   "outputs": [],
   "source": [
    "from datetime import datetime"
   ]
  },
  {
   "cell_type": "code",
   "execution_count": 2,
   "metadata": {},
   "outputs": [
    {
     "name": "stdout",
     "output_type": "stream",
     "text": [
      "2024-06-26 09:13:11.816163\n"
     ]
    }
   ],
   "source": [
    "current_date = datetime.now()\n",
    "print(current_date)"
   ]
  },
  {
   "cell_type": "code",
   "execution_count": 3,
   "metadata": {},
   "outputs": [
    {
     "name": "stdout",
     "output_type": "stream",
     "text": [
      "06\n"
     ]
    }
   ],
   "source": [
    "current_month_numeric = current_date.strftime(\"%m\")\n",
    "print(current_month_numeric)"
   ]
  },
  {
   "cell_type": "code",
   "execution_count": 4,
   "metadata": {},
   "outputs": [
    {
     "name": "stdout",
     "output_type": "stream",
     "text": [
      "June\n"
     ]
    }
   ],
   "source": [
    "current_month_name = current_date.strftime(\"%B\")\n",
    "print(current_month_name)"
   ]
  },
  {
   "cell_type": "code",
   "execution_count": 9,
   "metadata": {},
   "outputs": [],
   "source": [
    "# -- NECESSARY IMPORTS --\n",
    "import os\n",
    "from datetime import datetime\n",
    "import openpyxl\n",
    "from openpyxl import load_workbook, Workbook \n",
    "\n",
    "# -- DEFINING THE BASE DIRECTORY --\n",
    "base_directory = r\"C:\\Users\\aslee\\OneDrive - MORE ELECTRIC AND POWER CORPORATION\\MORE Energy Sourcing\\013. Rate Analysis\\005. 2024 Rate Analysis\"\n",
    "\n",
    "# -- GETTING THE CURRENT MONTH AND YEAR -- \n",
    "current_date = datetime.now()\n",
    "current_month_numeric = current_date.strftime(\"%m\")  # Month in numeric format (e.g., '01' for January)\n",
    "current_month_name = current_date.strftime(\"%B\")   # Full month name (e.g., 'January')\n",
    "current_day = current_date.strftime(\"%d\") # Day in numeric format (e.g., '26')\n",
    "current_year = current_date.strftime(\"%Y\")   # Year in 4-digit format (e.g., '2024')\n",
    "\n",
    "#List of all month names\n",
    "months = [\"January\", \"February\", \"March\", \"April\", \"May\", \"June\", \"July\", \"August\", \"September\", \"October\", \"November\", \"December\"]\n",
    "#Find index of current month\n",
    "current_month_index = months.index(current_month_name)\n",
    "\n",
    "if (current_day>'25') and (current_date.strftime(\"%m\")==current_month_numeric):\n",
    "    #Get current month in numeric format as a zero-padded string\n",
    "    current_month_numeric = current_date.strftime(\"%m\")\n",
    "    #Increment current month by converting to integer, adding 1, and formatting back to zero-padded string\n",
    "    current_month_numeric = '{:02d}'.format((int(current_month_numeric) % 12) + 1)\n",
    "    #Calculate index of next month\n",
    "    next_month_index = (current_month_index + 1) % 12\n",
    "    current_month_name = months[next_month_index]\n"
   ]
  },
  {
   "cell_type": "code",
   "execution_count": 10,
   "metadata": {},
   "outputs": [
    {
     "name": "stdout",
     "output_type": "stream",
     "text": [
      "07\n",
      "July\n"
     ]
    }
   ],
   "source": [
    "print(current_month_numeric)\n",
    "print(current_month_name)"
   ]
  },
  {
   "cell_type": "code",
   "execution_count": 22,
   "metadata": {},
   "outputs": [
    {
     "name": "stdout",
     "output_type": "stream",
     "text": [
      "Excel file cloned and saved to: C:\\Users\\aslee\\OneDrive - MORE ELECTRIC AND POWER CORPORATION\\Desktop/cloned_None.xlsx\n"
     ]
    }
   ],
   "source": [
    "import time\n",
    "import win32gui\n",
    "import win32con\n",
    "\n",
    "folder_path = r\"C:\\Users\\aslee\\OneDrive - MORE ELECTRIC AND POWER CORPORATION\\Desktop\"\n",
    "\n",
    "# -- FOLDER NAME (Example: Daily Rate Simulation_06252024) -- \n",
    "folder_name_2 = \"Daily Rate Simulation_06262024.xlsx\"\n",
    "\n",
    "# -- CONSTRUCTING THE FULL PATH --\n",
    "folder_path_2 = os.path.join(folder_path, folder_name_2)\n",
    "\n",
    "wb = load_workbook(filename=folder_path_2) #Load the workbook\n",
    "cloned_wb = Workbook() #Create a new workbook (clone)\n",
    "for sheet_name in wb.sheetnames:\n",
    "    original_sheet = wb[sheet_name]\n",
    "    cloned_sheet = cloned_wb.create_sheet(title=sheet_name)\n",
    "    for row in original_sheet.iter_rows(values_only=True):\n",
    "        cloned_sheet.append(row)\n",
    "destination_path = r\"C:\\Users\\aslee\\OneDrive - MORE ELECTRIC AND POWER CORPORATION\\Desktop\"\n",
    "cloned_filename = f\"{destination_path}/cloned_{wb.properties.title}.xlsx\"\n",
    "cloned_wb.save(cloned_filename)\n",
    "print(f\"Excel file cloned and saved to: {cloned_filename}\")"
   ]
  },
  {
   "cell_type": "code",
   "execution_count": 5,
   "metadata": {},
   "outputs": [
    {
     "name": "stdout",
     "output_type": "stream",
     "text": [
      "2024\n"
     ]
    }
   ],
   "source": [
    "current_year = current_date.strftime(\"%Y\")\n",
    "print(current_year)"
   ]
  },
  {
   "cell_type": "code",
   "execution_count": 6,
   "metadata": {},
   "outputs": [
    {
     "name": "stdout",
     "output_type": "stream",
     "text": [
      "26\n"
     ]
    }
   ],
   "source": [
    "current_day = current_date.strftime(\"%d\")\n",
    "print(current_day)"
   ]
  }
 ],
 "metadata": {
  "kernelspec": {
   "display_name": "Python 3",
   "language": "python",
   "name": "python3"
  },
  "language_info": {
   "codemirror_mode": {
    "name": "ipython",
    "version": 3
   },
   "file_extension": ".py",
   "mimetype": "text/x-python",
   "name": "python",
   "nbconvert_exporter": "python",
   "pygments_lexer": "ipython3",
   "version": "3.11.9"
  }
 },
 "nbformat": 4,
 "nbformat_minor": 2
}
