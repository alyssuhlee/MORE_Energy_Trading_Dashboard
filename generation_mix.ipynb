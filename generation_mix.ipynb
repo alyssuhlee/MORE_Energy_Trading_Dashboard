{
 "cells": [
  {
   "cell_type": "code",
   "execution_count": 4,
   "metadata": {},
   "outputs": [],
   "source": [
    "import pandas as pd\n",
    "from datetime import datetime\n",
    "\n",
    "# Load the data from the Excel file\n",
    "df = pd.read_excel('wesm_exposure.xlsx')"
   ]
  },
  {
   "cell_type": "code",
   "execution_count": 5,
   "metadata": {},
   "outputs": [],
   "source": [
    "# Get current hour\n",
    "current_hour = datetime.now().hour"
   ]
  },
  {
   "cell_type": "code",
   "execution_count": 8,
   "metadata": {},
   "outputs": [],
   "source": [
    "# Function to compare values based on hour\n",
    "def compare_values(row):\n",
    "    hour = row['HOUR']\n",
    "    if hour == current_hour:\n",
    "        if row['ACTUAL_ENERGY'] > row['TOTAL_BCQ_NOMINATION']:\n",
    "            return \"ACTUAL_ENERGY\"\n",
    "        else:\n",
    "            return 'TOTAL_BCQ_NOMINATION'\n",
    "    else:\n",
    "        return \"\""
   ]
  },
  {
   "cell_type": "code",
   "execution_count": 9,
   "metadata": {},
   "outputs": [],
   "source": [
    "# Apply the comparison function to each row and add a new column 'Higher_Value'\n",
    "df['Higher_Value'] = df.apply(compare_values, axis=1)"
   ]
  },
  {
   "cell_type": "code",
   "execution_count": 12,
   "metadata": {},
   "outputs": [
    {
     "data": {
      "text/plain": [
       "14"
      ]
     },
     "execution_count": 12,
     "metadata": {},
     "output_type": "execute_result"
    }
   ],
   "source": [
    "from datetime import datetime\n",
    "\n",
    "now = datetime.now()\n",
    "hour = int(now.strftime(\"%H\"))\n",
    "hour"
   ]
  },
  {
   "cell_type": "code",
   "execution_count": 10,
   "metadata": {},
   "outputs": [
    {
     "name": "stdout",
     "output_type": "stream",
     "text": [
      "    HOUR  ACTUAL_ENERGY  TOTAL_BCQ_NOMINATION  WESM_EXPOSURE   Higher_Value\n",
      "0      1   61592.267343                 45000   16592.267343               \n",
      "1      2   60966.452002                 45000   15966.452002               \n",
      "2      3   60054.578045                 45000   15054.578045               \n",
      "3      4   57539.090612                 45000   12539.090612               \n",
      "4      5   57945.359207                 45000   12945.359207               \n",
      "5      6   60017.748522                 45000   15017.748522               \n",
      "6      7   60473.073226                 45000   15473.073226               \n",
      "7      8   70646.604628                 45000   25646.604628               \n",
      "8      9   83899.691197                 65000   18899.691197               \n",
      "9     10   90881.797000                 65000   25881.797000               \n",
      "10    11   95251.090000                 65000   30251.090000               \n",
      "11    12   95119.704000                 65000   30119.704000               \n",
      "12    13   97927.179500                 65000   32927.179500  ACTUAL_ENERGY\n",
      "13    14  101073.089500                 65000   36073.089500               \n",
      "14    15  101768.206000                 65000   36768.206000               \n",
      "15    16  101396.695500                 65000   36396.695500               \n",
      "16    17   96043.415000                 65000   31043.415000               \n",
      "17    18   86900.154500                 65000   21900.154500               \n",
      "18    19   78406.133310                 65000   13406.133310               \n",
      "19    20   67094.522440                 65000    2094.522440               \n",
      "20    21   67327.332500                 65000    2327.332500               \n",
      "21    22   44357.662500                 65000  -20642.337500               \n",
      "22    23            NaN                 65000            NaN               \n",
      "23    24            NaN                 65000            NaN               \n"
     ]
    }
   ],
   "source": [
    "# Print the resulting dataframe\n",
    "print(df)"
   ]
  },
  {
   "cell_type": "code",
   "execution_count": 16,
   "metadata": {},
   "outputs": [
    {
     "name": "stdout",
     "output_type": "stream",
     "text": [
      "[15, 101768.206, 65000, 36768.20600000001]\n"
     ]
    }
   ],
   "source": [
    "import openpyxl\n",
    "\n",
    "wb = openpyxl.load_workbook('wesm_exposure.xlsx')\n",
    "sheet = wb['Sheet']\n",
    "# Column containing the hour values\n",
    "hour_column = 'HOUR'\n",
    "# Get current hour\n",
    "now = datetime.now()\n",
    "current_hour = int(now.strftime(\"%H\"))\n",
    "# List to store the row values\n",
    "row_values = []\n",
    "# Find the index of the hour column (assuming header row)\n",
    "hour_index = None\n",
    "for cell in sheet.iter_rows(min_row=1, max_row=1):  # Iterate through header row\n",
    "  cell_value = cell[0].value\n",
    "  if cell_value == hour_column:\n",
    "    hour_index = cell[0].column - 1  # Get column index (minus 1 for 0-based indexing)\n",
    "    break  # Exit loop after finding the hour column\n",
    "\n",
    "if hour_index is not None:  # Check if hour column was found\n",
    "  # Loop through each row\n",
    "  for row in sheet.iter_rows(min_row=2):  # Start from row 2 (data rows)\n",
    "    # Get the hour value from the specified column index\n",
    "    hour_value = row[hour_index].value\n",
    "\n",
    "    # Check if hour value matches current hour\n",
    "    if hour_value == current_hour:\n",
    "      # Extract values from the current row\n",
    "      for cell in row:\n",
    "        cell_value = cell.value\n",
    "        row_values.append(cell_value)\n",
    "      break  # Exit loop after finding the matching row\n",
    "\n",
    "# Print the row values (optional)\n",
    "print(row_values)"
   ]
  },
  {
   "cell_type": "code",
   "execution_count": 59,
   "metadata": {},
   "outputs": [
    {
     "name": "stdout",
     "output_type": "stream",
     "text": [
      "SCPC: 25000, KSPC1: 10000, KSPC2: 10000, EDC: 20000, WESM: 36396.6955\n"
     ]
    }
   ],
   "source": [
    "import plotly.graph_objs as go\n",
    "import streamlit as st\n",
    "\n",
    "wb = openpyxl.load_workbook('wesm_exposure.xlsx')\n",
    "sheet = wb['Sheet']\n",
    "# Column containing the hour values\n",
    "hour_column = 'HOUR'\n",
    "# Get current hour\n",
    "now = datetime.now()\n",
    "current_hour = int(now.strftime(\"%H\"))\n",
    "\n",
    "# Function to compare values based on hour\n",
    "def compare_values(row):\n",
    "    # Option 1: Check if `column_index` method exists (modern openpyxl)\n",
    "    if hasattr(sheet, 'column_index'):  # Check for the attribute\n",
    "        hour_index = sheet.column_index(hour_column)\n",
    "    else:  # Fallback for older versions\n",
    "        for col_idx in range(1, sheet.max_column + 1):  # Iterate through columns\n",
    "            if sheet.cell(row=1, column=col_idx).value == hour_column:\n",
    "                hour_index = col_idx\n",
    "                break  # Exit loop after finding the matching column\n",
    "\n",
    "    hour = row[hour_index - 1].value\n",
    "    if hour == current_hour:\n",
    "        if row[1].value > row[2].value:\n",
    "            # Load the data from the Excel file\n",
    "            total_bcq_nomination_wb = openpyxl.load_workbook('total_bcq_nomination.xlsx')\n",
    "            total_bcq_nomination_sheet = total_bcq_nomination_wb['Sheet']\n",
    "            wesm_exposure_wb = openpyxl.load_workbook('wesm_exposure.xlsx')\n",
    "            wesm_exposure_sheet = wesm_exposure_wb['Sheet']\n",
    "            # Find the row matching the current hour in the second file\n",
    "            comparison_row = None\n",
    "            for comparison_row in total_bcq_nomination_sheet.iter_rows():\n",
    "                comparison_hour = comparison_row[0].value\n",
    "                if comparison_hour == current_hour:\n",
    "                    break # Exit loop after the matching hour is found\n",
    "            comparison_row2 = None\n",
    "            for comparison_row2 in wesm_exposure_sheet.iter_rows():\n",
    "                comparison_hour2 = comparison_row2[0].value\n",
    "                if comparison_hour2 == current_hour:\n",
    "                    break\n",
    "            # Check if a matching row was found\n",
    "            if comparison_row is not None:\n",
    "                # Extract desired values from the matching row\n",
    "                scpc_value = comparison_row[1].value\n",
    "                kspc_value = comparison_row[2].value\n",
    "                kspc1_value = int(kspc_value/2)\n",
    "                kspc2_value = int(kspc_value/2)\n",
    "                edc_value = comparison_row[3].value\n",
    "            if comparison_row2 is not None:\n",
    "                wesm_value = comparison_row2[3].value\n",
    "\n",
    "                # Do something with the extracted values (e.g., print, store in a list)\n",
    "                print(f\"SCPC: {scpc_value}, KSPC1: {kspc1_value}, KSPC2: {kspc2_value}, EDC: {edc_value}, WESM: {wesm_value}\")\n",
    "            else:\n",
    "                print(f\"No matching hour found in comparison data for {current_hour}\")\n",
    "\n",
    "\n",
    "            labels = ['SCPC', 'KSPC1', 'KSPC2', 'EDC', 'WESM']\n",
    "            sizes = [scpc_value, kspc1_value, kspc2_value, edc_value, wesm_value]\n",
    "\n",
    "            # Create the donut chart data\n",
    "            data = [\n",
    "                go.Pie(\n",
    "                    labels=labels,\n",
    "                    values=sizes,\n",
    "                    hole=0.5,\n",
    "                    textinfo='label+percent',\n",
    "                    textposition='inside',\n",
    "                    marker={'colors': ['lightcoral', 'lightskyblue', 'lightgreen']},\n",
    "                )\n",
    "            ]\n",
    "            # Display the donut chart in Streamlit\n",
    "            st.plotly_chart(figure=data, use_container_width=True)\n",
    "\n",
    "        else:\n",
    "            # Handle the case where ACTUAL_ENERGY is not greater than TOTAL_BCQ_NOMINATION (optional)\n",
    "            if row[1].value <= row[2].value:\n",
    "                # Load the data from the Excel file\n",
    "                total_bcq_nomination_wb = openpyxl.load_workbook('total_bcq_nomination.xlsx')\n",
    "                total_bcq_nomination_sheet = total_bcq_nomination_wb['Sheet']\n",
    "\n",
    "                # Find the row matching the current hour in the second file\n",
    "                comparison_row = None\n",
    "                for comparison_row in total_bcq_nomination_sheet.iter_rows():\n",
    "                    comparison_hour = comparison_row[0].value\n",
    "                    if comparison_hour == current_hour:\n",
    "                        break # Exit loop after the matching hour is found\n",
    "\n",
    "                # Check if a matching row was found\n",
    "                if comparison_row is not None:\n",
    "                    # Extract desired values from the matching row\n",
    "                    scpc_value = comparison_row[1].value\n",
    "                    kspc_value = comparison_row[2].value\n",
    "                    kspc1_value = int(kspc_value/2)\n",
    "                    kspc2_value = int(kspc_value/2)\n",
    "                    edc_value = comparison_row[3].value\n",
    "                    # Do something with the extracted values (e.g., print, store in a list)\n",
    "                    print(f\"SCPC: {scpc_value}, KSPC1: {kspc1_value}, KSPC2: {kspc2_value}, EDC: {edc_value}\")\n",
    "                else:\n",
    "                    print(f\"No matching hour found in comparison data for {current_hour}\")\n",
    "\n",
    "                labels = ['SCPC', 'KSPC1', 'KSPC2', 'EDC', 'WESM']\n",
    "                sizes = [scpc_value, kspc1_value, kspc2_value, edc_value, wesm_value]\n",
    "\n",
    "                # Create the donut chart data\n",
    "                data = [\n",
    "                    go.Pie(\n",
    "                        labels=labels,\n",
    "                        values=sizes,\n",
    "                        hole=0.5,\n",
    "                        textinfo='label+percent',\n",
    "                        textposition='inside',\n",
    "                        marker={'colors': ['lightcoral', 'lightskyblue', 'lightgreen']},\n",
    "                    )\n",
    "                ]   \n",
    "                # Display the donut chart in Streamlit\n",
    "                st.plotly_chart(figure=data, use_container_width=True)\n",
    "\n",
    "    else:\n",
    "        # Handle the case where the current hour doesn't match the row's hour (optional)\n",
    "        pass\n",
    "\n",
    "# Process rows in the sheet (assuming you want to process all rows)\n",
    "for row in sheet.iter_rows(min_row=2):  # Start from row 2 (assuming header row)\n",
    "  compare_values(row)"
   ]
  }
 ],
 "metadata": {
  "kernelspec": {
   "display_name": "Python 3",
   "language": "python",
   "name": "python3"
  },
  "language_info": {
   "codemirror_mode": {
    "name": "ipython",
    "version": 3
   },
   "file_extension": ".py",
   "mimetype": "text/x-python",
   "name": "python",
   "nbconvert_exporter": "python",
   "pygments_lexer": "ipython3",
   "version": "3.11.9"
  }
 },
 "nbformat": 4,
 "nbformat_minor": 2
}
