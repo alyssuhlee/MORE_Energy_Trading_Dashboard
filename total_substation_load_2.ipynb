{
 "cells": [
  {
   "cell_type": "code",
   "execution_count": 2,
   "metadata": {},
   "outputs": [],
   "source": [
    "import pandas as pd\n",
    "\n",
    "# Read the Excel file into a Pandas Dataframe\n",
    "file_path = r\"C:\\Users\\aslee\\OneDrive - MORE ELECTRIC AND POWER CORPORATION\\Desktop\\DASHBOARD_FINAL\\station_load_graph.xlsx\"\n",
    "df = pd.read_excel(file_path)"
   ]
  },
  {
   "cell_type": "code",
   "execution_count": 3,
   "metadata": {},
   "outputs": [
    {
     "name": "stdout",
     "output_type": "stream",
     "text": [
      "DataFrame head:\n",
      "   Hour  Lapaz  Jaro  Mandurriao  Molo  Diversion  Mobile SS 1  Mobile SS 2  \\\n",
      "0     1  18904  5189        7859     0       4467         3875        14386   \n",
      "1     2  18793  4947        7420     0       4398         3682        14259   \n",
      "2     3  17764  4766        7292     0       4218         3535        13776   \n",
      "3     4  17244  4538        7087     0       4201         3429        13328   \n",
      "4     5  17340  4597        7101     0       4357            0        13180   \n",
      "\n",
      "   Megaworld  \n",
      "0      13743  \n",
      "1      13009  \n",
      "2      12813  \n",
      "3      12661  \n",
      "4      16037  \n"
     ]
    }
   ],
   "source": [
    "# Debug: Print DataFrame head\n",
    "print(\"DataFrame head:\")\n",
    "print(df.head())"
   ]
  },
  {
   "cell_type": "code",
   "execution_count": 4,
   "metadata": {},
   "outputs": [
    {
     "name": "stdout",
     "output_type": "stream",
     "text": [
      "Successfully connected to the database\n",
      "Table created successfully or already exists\n",
      "Inserted row 1\n",
      "Inserted row 2\n",
      "Inserted row 3\n",
      "Inserted row 4\n",
      "Inserted row 5\n",
      "Inserted row 6\n",
      "Inserted row 7\n",
      "Inserted row 8\n",
      "Inserted row 9\n",
      "Inserted row 10\n",
      "Inserted row 11\n",
      "Inserted row 12\n",
      "Inserted row 13\n",
      "Inserted row 14\n",
      "Inserted row 15\n",
      "Inserted row 16\n",
      "Inserted row 17\n",
      "Inserted row 18\n",
      "Inserted row 19\n",
      "Inserted row 20\n",
      "Inserted row 21\n",
      "Data committed to the database\n",
      "MySQL connection is closed\n"
     ]
    }
   ],
   "source": [
    "import mysql.connector\n",
    "from mysql.connector import Error\n",
    "\n",
    "# Connect to the MySQL Database\n",
    "try:\n",
    "    connection = mysql.connector.connect(\n",
    "        host='localhost',\n",
    "        database='myDb',\n",
    "        user='root',\n",
    "        password=''\n",
    "    )\n",
    "\n",
    "    if connection.is_connected():\n",
    "        print(\"Successfully connected to the database\")\n",
    "        cursor = connection.cursor()\n",
    "\n",
    "        # Create a table\n",
    "        table_name = 'station_load_graph'\n",
    "        create_table_query = f\"\"\"\n",
    "        CREATE TABLE IF NOT EXISTS {table_name} (\n",
    "            id INT AUTO_INCREMENT PRIMARY KEY,\n",
    "            Hour INT(11) NOT NULL,\n",
    "            Lapaz INT(11) NOT NULL,\n",
    "            Jaro INT(11) NOT NULL,\n",
    "            Mandurriao INT(11) NOT NULL,\n",
    "            Molo INT(11) NOT NULL,\n",
    "            Diversion INT(11) NOT NULL,\n",
    "            `Mobile SS 1` INT(11) NOT NULL,\n",
    "            `Mobile SS 2` INT(11) NOT NULL,\n",
    "            Megaworld INT(11) NOT NULL\n",
    "        )\n",
    "        \"\"\"\n",
    "        cursor.execute(create_table_query)\n",
    "        print(\"Table created successfully or already exists\")\n",
    "\n",
    "        # Insert data from dataframe into the MySQL table\n",
    "        for i, row in df.iterrows():\n",
    "            sql = f\"INSERT INTO {table_name} (Hour, Lapaz, Jaro, Mandurriao, Molo, Diversion, `Mobile SS 1`, `Mobile SS 2`, Megaworld) VALUES (%s, %s, %s, %s, %s, %s, %s, %s, %s)\"\n",
    "            cursor.execute(sql, tuple(row))\n",
    "            print(f\"Inserted row {i + 1}\")\n",
    "\n",
    "        # Commit the transaction\n",
    "        connection.commit()\n",
    "        print(\"Data committed to the database\")\n",
    "\n",
    "except Error as e:\n",
    "    print(f\"Error: {e}\")\n",
    "\n",
    "finally:\n",
    "    if connection.is_connected():\n",
    "        cursor.close()\n",
    "        connection.close()\n",
    "        print(\"MySQL connection is closed\")"
   ]
  },
  {
   "cell_type": "code",
   "execution_count": 5,
   "metadata": {},
   "outputs": [
    {
     "data": {
      "text/plain": [
       "10"
      ]
     },
     "execution_count": 5,
     "metadata": {},
     "output_type": "execute_result"
    }
   ],
   "source": [
    "from datetime import datetime\n",
    "# Get the current hour\n",
    "current_hour = datetime.now().hour\n",
    "current_hour"
   ]
  }
 ],
 "metadata": {
  "kernelspec": {
   "display_name": "Python 3",
   "language": "python",
   "name": "python3"
  },
  "language_info": {
   "codemirror_mode": {
    "name": "ipython",
    "version": 3
   },
   "file_extension": ".py",
   "mimetype": "text/x-python",
   "name": "python",
   "nbconvert_exporter": "python",
   "pygments_lexer": "ipython3",
   "version": "3.11.9"
  }
 },
 "nbformat": 4,
 "nbformat_minor": 2
}
