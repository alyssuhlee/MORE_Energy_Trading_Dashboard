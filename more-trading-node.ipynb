{
 "cells": [
  {
   "cell_type": "code",
   "execution_count": 1,
   "metadata": {},
   "outputs": [],
   "source": [
    "from ftplib import FTP\n",
    "from datetime import datetime\n",
    "import os\n",
    "import ftplib\n",
    "import time\n",
    "import re"
   ]
  },
  {
   "cell_type": "code",
   "execution_count": 2,
   "metadata": {},
   "outputs": [],
   "source": [
    "# Connect to the FTP server\n",
    "ftp = FTP(\"120.28.19.206\")"
   ]
  },
  {
   "cell_type": "code",
   "execution_count": 3,
   "metadata": {},
   "outputs": [
    {
     "data": {
      "text/plain": [
       "'230 User logged in.'"
      ]
     },
     "execution_count": 3,
     "metadata": {},
     "output_type": "execute_result"
    }
   ],
   "source": [
    "# Login to the FTP server\n",
    "ftp.login(user=\"MORE_01\", passwd=\"ar@pNkRW4v\")"
   ]
  },
  {
   "cell_type": "code",
   "execution_count": 4,
   "metadata": {},
   "outputs": [
    {
     "data": {
      "text/plain": [
       "'250 CWD command successful.'"
      ]
     },
     "execution_count": 4,
     "metadata": {},
     "output_type": "execute_result"
    }
   ],
   "source": [
    "ftp.cwd('/LMP/DIPC/')"
   ]
  },
  {
   "cell_type": "code",
   "execution_count": 5,
   "metadata": {},
   "outputs": [],
   "source": [
    "# Function to download files from the FTP server\n",
    "def download_files():\n",
    "    now = datetime.now()  # current date and time\n",
    "    date_today = now.strftime(\"%Y%m%d\")\n",
    "\n",
    "    ftp_folder_path = \"/LMP/DIPC/\"\n",
    "    local_folder_path = \"C:\\\\Users\\\\aslee\\\\OneDrive - MORE ELECTRIC AND POWER CORPORATION\\\\Desktop\\\\DASHBOARD_FINAL\\\\MORE Trading Node\\\\\"\n",
    "\n",
    "    # List the files in the FTP directory\n",
    "    files = ftp.nlst()\n",
    "\n",
    "    for addtl_folder in files:\n",
    "        # if the filename is the same with the date today\n",
    "        if addtl_folder == date_today:\n",
    "            ftp_folder_file = f\"/LMP/DIPC/{addtl_folder}\"\n",
    "            local_folder_file = os.path.join(local_folder_path, addtl_folder)\n",
    "\n",
    "            print(f\"Checking FTP folder path: {ftp_folder_file}\")\n",
    "            print(f\"Checking local folder path: {local_folder_file}\")\n",
    "\n",
    "            # Check if the folder exists on the FTP server\n",
    "            folder_exists = True\n",
    "            try:\n",
    "                ftp.cwd(ftp_folder_file)\n",
    "            except ftplib.error_perm as e:\n",
    "                folder_exists = False\n",
    "                print(f\"FTP folder does not exist: {ftp_folder_file}\")\n",
    "\n",
    "            if folder_exists:\n",
    "                # Ensure the destination folder exists\n",
    "                if not os.path.exists(local_folder_file):\n",
    "                    os.makedirs(local_folder_file)\n",
    "\n",
    "                # Download the files from the FTP server to the local folder\n",
    "                filenames = ftp.nlst()\n",
    "                for filename in filenames:\n",
    "                    print(filename)\n",
    "                    local_file_path = os.path.join(local_folder_file, filename)\n",
    "                    try:\n",
    "                        with open(local_file_path, 'wb') as local_file:\n",
    "                            ftp.retrbinary('RETR ' + filename, local_file.write)\n",
    "                        print(f\"Copied {filename} to {local_file_path}\")\n",
    "                        \n",
    "                    except ftplib.error_perm as e:\n",
    "                        print(f\"Could not copy {filename}: {e}\")"
   ]
  },
  {
   "cell_type": "code",
   "execution_count": 6,
   "metadata": {},
   "outputs": [
    {
     "name": "stdout",
     "output_type": "stream",
     "text": [
      "Checking FTP folder path: /LMP/DIPC/20240712\n",
      "Checking local folder path: C:\\Users\\aslee\\OneDrive - MORE ELECTRIC AND POWER CORPORATION\\Desktop\\DASHBOARD_FINAL\\MORE Trading Node\\20240712\n",
      "MPI_LMP_DIPC_202407120000.csv\n",
      "Copied MPI_LMP_DIPC_202407120000.csv to C:\\Users\\aslee\\OneDrive - MORE ELECTRIC AND POWER CORPORATION\\Desktop\\DASHBOARD_FINAL\\MORE Trading Node\\20240712\\MPI_LMP_DIPC_202407120000.csv\n",
      "MPI_LMP_DIPC_202407120005.csv\n",
      "Copied MPI_LMP_DIPC_202407120005.csv to C:\\Users\\aslee\\OneDrive - MORE ELECTRIC AND POWER CORPORATION\\Desktop\\DASHBOARD_FINAL\\MORE Trading Node\\20240712\\MPI_LMP_DIPC_202407120005.csv\n",
      "MPI_LMP_DIPC_202407120010.csv\n",
      "Copied MPI_LMP_DIPC_202407120010.csv to C:\\Users\\aslee\\OneDrive - MORE ELECTRIC AND POWER CORPORATION\\Desktop\\DASHBOARD_FINAL\\MORE Trading Node\\20240712\\MPI_LMP_DIPC_202407120010.csv\n",
      "MPI_LMP_DIPC_202407120015.csv\n",
      "Copied MPI_LMP_DIPC_202407120015.csv to C:\\Users\\aslee\\OneDrive - MORE ELECTRIC AND POWER CORPORATION\\Desktop\\DASHBOARD_FINAL\\MORE Trading Node\\20240712\\MPI_LMP_DIPC_202407120015.csv\n",
      "MPI_LMP_DIPC_202407120020.csv\n",
      "Copied MPI_LMP_DIPC_202407120020.csv to C:\\Users\\aslee\\OneDrive - MORE ELECTRIC AND POWER CORPORATION\\Desktop\\DASHBOARD_FINAL\\MORE Trading Node\\20240712\\MPI_LMP_DIPC_202407120020.csv\n",
      "MPI_LMP_DIPC_202407120025.csv\n",
      "Copied MPI_LMP_DIPC_202407120025.csv to C:\\Users\\aslee\\OneDrive - MORE ELECTRIC AND POWER CORPORATION\\Desktop\\DASHBOARD_FINAL\\MORE Trading Node\\20240712\\MPI_LMP_DIPC_202407120025.csv\n",
      "MPI_LMP_DIPC_202407120030.csv\n",
      "Copied MPI_LMP_DIPC_202407120030.csv to C:\\Users\\aslee\\OneDrive - MORE ELECTRIC AND POWER CORPORATION\\Desktop\\DASHBOARD_FINAL\\MORE Trading Node\\20240712\\MPI_LMP_DIPC_202407120030.csv\n",
      "MPI_LMP_DIPC_202407120035.csv\n",
      "Copied MPI_LMP_DIPC_202407120035.csv to C:\\Users\\aslee\\OneDrive - MORE ELECTRIC AND POWER CORPORATION\\Desktop\\DASHBOARD_FINAL\\MORE Trading Node\\20240712\\MPI_LMP_DIPC_202407120035.csv\n",
      "MPI_LMP_DIPC_202407120040.csv\n",
      "Copied MPI_LMP_DIPC_202407120040.csv to C:\\Users\\aslee\\OneDrive - MORE ELECTRIC AND POWER CORPORATION\\Desktop\\DASHBOARD_FINAL\\MORE Trading Node\\20240712\\MPI_LMP_DIPC_202407120040.csv\n",
      "MPI_LMP_DIPC_202407120045.csv\n",
      "Copied MPI_LMP_DIPC_202407120045.csv to C:\\Users\\aslee\\OneDrive - MORE ELECTRIC AND POWER CORPORATION\\Desktop\\DASHBOARD_FINAL\\MORE Trading Node\\20240712\\MPI_LMP_DIPC_202407120045.csv\n",
      "MPI_LMP_DIPC_202407120050.csv\n",
      "Copied MPI_LMP_DIPC_202407120050.csv to C:\\Users\\aslee\\OneDrive - MORE ELECTRIC AND POWER CORPORATION\\Desktop\\DASHBOARD_FINAL\\MORE Trading Node\\20240712\\MPI_LMP_DIPC_202407120050.csv\n",
      "MPI_LMP_DIPC_202407120055.csv\n",
      "Copied MPI_LMP_DIPC_202407120055.csv to C:\\Users\\aslee\\OneDrive - MORE ELECTRIC AND POWER CORPORATION\\Desktop\\DASHBOARD_FINAL\\MORE Trading Node\\20240712\\MPI_LMP_DIPC_202407120055.csv\n",
      "MPI_LMP_DIPC_202407120100.csv\n",
      "Copied MPI_LMP_DIPC_202407120100.csv to C:\\Users\\aslee\\OneDrive - MORE ELECTRIC AND POWER CORPORATION\\Desktop\\DASHBOARD_FINAL\\MORE Trading Node\\20240712\\MPI_LMP_DIPC_202407120100.csv\n",
      "MPI_LMP_DIPC_202407120105.csv\n",
      "Copied MPI_LMP_DIPC_202407120105.csv to C:\\Users\\aslee\\OneDrive - MORE ELECTRIC AND POWER CORPORATION\\Desktop\\DASHBOARD_FINAL\\MORE Trading Node\\20240712\\MPI_LMP_DIPC_202407120105.csv\n",
      "MPI_LMP_DIPC_202407120110.csv\n",
      "Copied MPI_LMP_DIPC_202407120110.csv to C:\\Users\\aslee\\OneDrive - MORE ELECTRIC AND POWER CORPORATION\\Desktop\\DASHBOARD_FINAL\\MORE Trading Node\\20240712\\MPI_LMP_DIPC_202407120110.csv\n",
      "MPI_LMP_DIPC_202407120115.csv\n",
      "Copied MPI_LMP_DIPC_202407120115.csv to C:\\Users\\aslee\\OneDrive - MORE ELECTRIC AND POWER CORPORATION\\Desktop\\DASHBOARD_FINAL\\MORE Trading Node\\20240712\\MPI_LMP_DIPC_202407120115.csv\n",
      "MPI_LMP_DIPC_202407120120.csv\n",
      "Copied MPI_LMP_DIPC_202407120120.csv to C:\\Users\\aslee\\OneDrive - MORE ELECTRIC AND POWER CORPORATION\\Desktop\\DASHBOARD_FINAL\\MORE Trading Node\\20240712\\MPI_LMP_DIPC_202407120120.csv\n",
      "MPI_LMP_DIPC_202407120125.csv\n",
      "Copied MPI_LMP_DIPC_202407120125.csv to C:\\Users\\aslee\\OneDrive - MORE ELECTRIC AND POWER CORPORATION\\Desktop\\DASHBOARD_FINAL\\MORE Trading Node\\20240712\\MPI_LMP_DIPC_202407120125.csv\n",
      "MPI_LMP_DIPC_202407120130.csv\n",
      "Copied MPI_LMP_DIPC_202407120130.csv to C:\\Users\\aslee\\OneDrive - MORE ELECTRIC AND POWER CORPORATION\\Desktop\\DASHBOARD_FINAL\\MORE Trading Node\\20240712\\MPI_LMP_DIPC_202407120130.csv\n",
      "MPI_LMP_DIPC_202407120135.csv\n",
      "Copied MPI_LMP_DIPC_202407120135.csv to C:\\Users\\aslee\\OneDrive - MORE ELECTRIC AND POWER CORPORATION\\Desktop\\DASHBOARD_FINAL\\MORE Trading Node\\20240712\\MPI_LMP_DIPC_202407120135.csv\n",
      "MPI_LMP_DIPC_202407120140.csv\n",
      "Copied MPI_LMP_DIPC_202407120140.csv to C:\\Users\\aslee\\OneDrive - MORE ELECTRIC AND POWER CORPORATION\\Desktop\\DASHBOARD_FINAL\\MORE Trading Node\\20240712\\MPI_LMP_DIPC_202407120140.csv\n",
      "MPI_LMP_DIPC_202407120145.csv\n",
      "Copied MPI_LMP_DIPC_202407120145.csv to C:\\Users\\aslee\\OneDrive - MORE ELECTRIC AND POWER CORPORATION\\Desktop\\DASHBOARD_FINAL\\MORE Trading Node\\20240712\\MPI_LMP_DIPC_202407120145.csv\n",
      "MPI_LMP_DIPC_202407120150.csv\n",
      "Copied MPI_LMP_DIPC_202407120150.csv to C:\\Users\\aslee\\OneDrive - MORE ELECTRIC AND POWER CORPORATION\\Desktop\\DASHBOARD_FINAL\\MORE Trading Node\\20240712\\MPI_LMP_DIPC_202407120150.csv\n",
      "MPI_LMP_DIPC_202407120155.csv\n",
      "Copied MPI_LMP_DIPC_202407120155.csv to C:\\Users\\aslee\\OneDrive - MORE ELECTRIC AND POWER CORPORATION\\Desktop\\DASHBOARD_FINAL\\MORE Trading Node\\20240712\\MPI_LMP_DIPC_202407120155.csv\n",
      "MPI_LMP_DIPC_202407120200.csv\n"
     ]
    },
    {
     "ename": "error_temp",
     "evalue": "425 Cannot open data connection.",
     "output_type": "error",
     "traceback": [
      "\u001b[1;31m---------------------------------------------------------------------------\u001b[0m",
      "\u001b[1;31merror_temp\u001b[0m                                Traceback (most recent call last)",
      "Cell \u001b[1;32mIn[6], line 3\u001b[0m\n\u001b[0;32m      1\u001b[0m \u001b[38;5;66;03m# Main loop to check for new files every 5 minutes\u001b[39;00m\n\u001b[0;32m      2\u001b[0m \u001b[38;5;28;01mwhile\u001b[39;00m \u001b[38;5;28;01mTrue\u001b[39;00m:\n\u001b[1;32m----> 3\u001b[0m     \u001b[43mdownload_files\u001b[49m\u001b[43m(\u001b[49m\u001b[43m)\u001b[49m\n\u001b[0;32m      4\u001b[0m     time\u001b[38;5;241m.\u001b[39msleep(\u001b[38;5;241m300\u001b[39m)  \u001b[38;5;66;03m# Sleep for 5 minutes\u001b[39;00m\n",
      "Cell \u001b[1;32mIn[5], line 41\u001b[0m, in \u001b[0;36mdownload_files\u001b[1;34m()\u001b[0m\n\u001b[0;32m     39\u001b[0m \u001b[38;5;28;01mtry\u001b[39;00m:\n\u001b[0;32m     40\u001b[0m     \u001b[38;5;28;01mwith\u001b[39;00m \u001b[38;5;28mopen\u001b[39m(local_file_path, \u001b[38;5;124m'\u001b[39m\u001b[38;5;124mwb\u001b[39m\u001b[38;5;124m'\u001b[39m) \u001b[38;5;28;01mas\u001b[39;00m local_file:\n\u001b[1;32m---> 41\u001b[0m         \u001b[43mftp\u001b[49m\u001b[38;5;241;43m.\u001b[39;49m\u001b[43mretrbinary\u001b[49m\u001b[43m(\u001b[49m\u001b[38;5;124;43m'\u001b[39;49m\u001b[38;5;124;43mRETR \u001b[39;49m\u001b[38;5;124;43m'\u001b[39;49m\u001b[43m \u001b[49m\u001b[38;5;241;43m+\u001b[39;49m\u001b[43m \u001b[49m\u001b[43mfilename\u001b[49m\u001b[43m,\u001b[49m\u001b[43m \u001b[49m\u001b[43mlocal_file\u001b[49m\u001b[38;5;241;43m.\u001b[39;49m\u001b[43mwrite\u001b[49m\u001b[43m)\u001b[49m\n\u001b[0;32m     42\u001b[0m     \u001b[38;5;28mprint\u001b[39m(\u001b[38;5;124mf\u001b[39m\u001b[38;5;124m\"\u001b[39m\u001b[38;5;124mCopied \u001b[39m\u001b[38;5;132;01m{\u001b[39;00mfilename\u001b[38;5;132;01m}\u001b[39;00m\u001b[38;5;124m to \u001b[39m\u001b[38;5;132;01m{\u001b[39;00mlocal_file_path\u001b[38;5;132;01m}\u001b[39;00m\u001b[38;5;124m\"\u001b[39m)\n\u001b[0;32m     44\u001b[0m \u001b[38;5;28;01mexcept\u001b[39;00m ftplib\u001b[38;5;241m.\u001b[39merror_perm \u001b[38;5;28;01mas\u001b[39;00m e:\n",
      "File \u001b[1;32mC:\\Program Files\\WindowsApps\\PythonSoftwareFoundation.Python.3.11_3.11.2544.0_x64__qbz5n2kfra8p0\\Lib\\ftplib.py:445\u001b[0m, in \u001b[0;36mFTP.retrbinary\u001b[1;34m(self, cmd, callback, blocksize, rest)\u001b[0m\n\u001b[0;32m    443\u001b[0m     \u001b[38;5;28;01mif\u001b[39;00m _SSLSocket \u001b[38;5;129;01mis\u001b[39;00m \u001b[38;5;129;01mnot\u001b[39;00m \u001b[38;5;28;01mNone\u001b[39;00m \u001b[38;5;129;01mand\u001b[39;00m \u001b[38;5;28misinstance\u001b[39m(conn, _SSLSocket):\n\u001b[0;32m    444\u001b[0m         conn\u001b[38;5;241m.\u001b[39munwrap()\n\u001b[1;32m--> 445\u001b[0m \u001b[38;5;28;01mreturn\u001b[39;00m \u001b[38;5;28;43mself\u001b[39;49m\u001b[38;5;241;43m.\u001b[39;49m\u001b[43mvoidresp\u001b[49m\u001b[43m(\u001b[49m\u001b[43m)\u001b[49m\n",
      "File \u001b[1;32mC:\\Program Files\\WindowsApps\\PythonSoftwareFoundation.Python.3.11_3.11.2544.0_x64__qbz5n2kfra8p0\\Lib\\ftplib.py:259\u001b[0m, in \u001b[0;36mFTP.voidresp\u001b[1;34m(self)\u001b[0m\n\u001b[0;32m    257\u001b[0m \u001b[38;5;28;01mdef\u001b[39;00m \u001b[38;5;21mvoidresp\u001b[39m(\u001b[38;5;28mself\u001b[39m):\n\u001b[0;32m    258\u001b[0m \u001b[38;5;250m    \u001b[39m\u001b[38;5;124;03m\"\"\"Expect a response beginning with '2'.\"\"\"\u001b[39;00m\n\u001b[1;32m--> 259\u001b[0m     resp \u001b[38;5;241m=\u001b[39m \u001b[38;5;28;43mself\u001b[39;49m\u001b[38;5;241;43m.\u001b[39;49m\u001b[43mgetresp\u001b[49m\u001b[43m(\u001b[49m\u001b[43m)\u001b[49m\n\u001b[0;32m    260\u001b[0m     \u001b[38;5;28;01mif\u001b[39;00m resp[:\u001b[38;5;241m1\u001b[39m] \u001b[38;5;241m!=\u001b[39m \u001b[38;5;124m'\u001b[39m\u001b[38;5;124m2\u001b[39m\u001b[38;5;124m'\u001b[39m:\n\u001b[0;32m    261\u001b[0m         \u001b[38;5;28;01mraise\u001b[39;00m error_reply(resp)\n",
      "File \u001b[1;32mC:\\Program Files\\WindowsApps\\PythonSoftwareFoundation.Python.3.11_3.11.2544.0_x64__qbz5n2kfra8p0\\Lib\\ftplib.py:252\u001b[0m, in \u001b[0;36mFTP.getresp\u001b[1;34m(self)\u001b[0m\n\u001b[0;32m    250\u001b[0m     \u001b[38;5;28;01mreturn\u001b[39;00m resp\n\u001b[0;32m    251\u001b[0m \u001b[38;5;28;01mif\u001b[39;00m c \u001b[38;5;241m==\u001b[39m \u001b[38;5;124m'\u001b[39m\u001b[38;5;124m4\u001b[39m\u001b[38;5;124m'\u001b[39m:\n\u001b[1;32m--> 252\u001b[0m     \u001b[38;5;28;01mraise\u001b[39;00m error_temp(resp)\n\u001b[0;32m    253\u001b[0m \u001b[38;5;28;01mif\u001b[39;00m c \u001b[38;5;241m==\u001b[39m \u001b[38;5;124m'\u001b[39m\u001b[38;5;124m5\u001b[39m\u001b[38;5;124m'\u001b[39m:\n\u001b[0;32m    254\u001b[0m     \u001b[38;5;28;01mraise\u001b[39;00m error_perm(resp)\n",
      "\u001b[1;31merror_temp\u001b[0m: 425 Cannot open data connection."
     ]
    }
   ],
   "source": [
    "# Main loop to check for new files every 5 minutes\n",
    "while True:\n",
    "    download_files()\n",
    "    time.sleep(300)  # Sleep for 5 minutes"
   ]
  },
  {
   "cell_type": "code",
   "execution_count": null,
   "metadata": {},
   "outputs": [],
   "source": [
    "#if os.path.isdir(folder_path):\n",
    "            # List of all files and directories in the specified directory\n",
    "          #  files_in_folder = os.listdir(folder_path) # MPI_LMP_DIPC_202407110000, etc.\n",
    "\n",
    "           # print(files_in_folder[1]) # files_in_folder[1] -> files_in_folder[13]\n"
   ]
  },
  {
   "cell_type": "code",
   "execution_count": 7,
   "metadata": {},
   "outputs": [],
   "source": [
    "from datetime import datetime\n",
    "import os\n",
    "import pandas as pd\n",
    "import mysql.connector\n",
    "import time"
   ]
  },
  {
   "cell_type": "code",
   "execution_count": 12,
   "metadata": {},
   "outputs": [
    {
     "name": "stdout",
     "output_type": "stream",
     "text": [
      "32038.90582777778\n"
     ]
    }
   ],
   "source": [
    "directory = r'C:\\Users\\aslee\\OneDrive - MORE ELECTRIC AND POWER CORPORATION\\Desktop\\DASHBOARD_FINAL\\MORE Trading Node'\n",
    "now = datetime.now()\n",
    "# Example folder name: 20240711\n",
    "date_today = now.strftime(\"%Y%m%d\")\n",
    "contents = os.listdir(directory)\n",
    "for item in contents:\n",
    "    if item == date_today:\n",
    "        folder_path = os.path.join(directory, item) \n",
    "        if os.path.isdir(folder_path):\n",
    "            files_in_folder = os.listdir(folder_path) # MPI_LMP_DIPC_202407110000, etc.\n",
    "            current_hour = now.strftime(\"%H\")\n",
    "            if current_hour == '09':\n",
    "                first_file_path = os.path.join(folder_path, files_in_folder[97])\n",
    "                df = pd.read_csv(first_file_path)\n",
    "                pedc_til1 = df.iloc[751,5]\n",
    "                pedc_til2 = df.iloc[752,5]\n",
    "                stbar_til1 = df.iloc[766,5]\n",
    "                total_1st = (pedc_til1 + pedc_til2 + stbar_til1)/3\n",
    "                second_file_path = os.path.join(folder_path, files_in_folder[98])\n",
    "                second_df = pd.read_csv(second_file_path)\n",
    "                second_pedc_til1 = second_df.iloc[751,5]\n",
    "                second_pedc_til2 = second_df.iloc[752,5]\n",
    "                second_stbar_til1 = second_df.iloc[766,5]\n",
    "                total_2nd = (second_pedc_til1 + second_pedc_til2 + second_stbar_til1)/3\n",
    "                third_file_path = os.path.join(folder_path, files_in_folder[99])\n",
    "                third_df = pd.read_csv(third_file_path)\n",
    "                third_pedc_til1 = third_df.iloc[751,5]\n",
    "                third_pedc_til2 = third_df.iloc[752,5]\n",
    "                third_stbar_til1 = third_df.iloc[766,5]\n",
    "                total_3rd = (third_pedc_til1 + third_pedc_til2 + third_stbar_til1)/3\n",
    "                fourth_file_path = os.path.join(folder_path, files_in_folder[100])\n",
    "                fourth_df = pd.read_csv(fourth_file_path)\n",
    "                fourth_pedc_til1 = fourth_df.iloc[751,5]\n",
    "                fourth_pedc_til2 = fourth_df.iloc[752,5]\n",
    "                fourth_stbar_til1 = fourth_df.iloc[766,5]\n",
    "                total_4th = (fourth_pedc_til1 + fourth_pedc_til2 + fourth_stbar_til1)/3\n",
    "                fifth_file_path = os.path.join(folder_path, files_in_folder[101])\n",
    "                fifth_df = pd.read_csv(fifth_file_path)\n",
    "                fifth_pedc_til1 = fifth_df.iloc[751,5]\n",
    "                fifth_pedc_til2 = fifth_df.iloc[752,5]\n",
    "                fifth_stbar_til1 = fifth_df.iloc[766,5]\n",
    "                total_5th = (fifth_pedc_til1 + fifth_pedc_til2 + fifth_stbar_til1)/3\n",
    "                sixth_file_path = os.path.join(folder_path, files_in_folder[102])\n",
    "                sixth_df = pd.read_csv(sixth_file_path)\n",
    "                sixth_pedc_til1 = sixth_df.iloc[751,5]\n",
    "                sixth_pedc_til2 = sixth_df.iloc[752,5]\n",
    "                sixth_stbar_til1 = sixth_df.iloc[766,5]\n",
    "                total_6th = (sixth_pedc_til1 + sixth_pedc_til2 + sixth_stbar_til1)/3\n",
    "                seventh_file_path = os.path.join(folder_path, files_in_folder[103])\n",
    "                seventh_df = pd.read_csv(seventh_file_path)\n",
    "                seventh_pedc_til1 = seventh_df.iloc[751,5]\n",
    "                seventh_pedc_til2 = seventh_df.iloc[752,5]\n",
    "                seventh_stbar_til1 = seventh_df.iloc[766,5]\n",
    "                total_7th = (seventh_pedc_til1 + seventh_pedc_til2 + seventh_stbar_til1)/3\n",
    "                eighth_file_path = os.path.join(folder_path, files_in_folder[104])\n",
    "                eighth_df = pd.read_csv(eighth_file_path)\n",
    "                eighth_pedc_til1 = eighth_df.iloc[751,5]\n",
    "                eighth_pedc_til2 = eighth_df.iloc[752,5]\n",
    "                eighth_stbar_til1 = eighth_df.iloc[766,5]\n",
    "                total_8th = (eighth_pedc_til1 + eighth_pedc_til2 + eighth_stbar_til1)/3\n",
    "                ninth_file_path = os.path.join(folder_path, files_in_folder[105])\n",
    "                ninth_df = pd.read_csv(ninth_file_path)\n",
    "                ninth_pedc_til1 = ninth_df.iloc[751,5]\n",
    "                ninth_pedc_til2 = eighth_df.iloc[752,5]\n",
    "                ninth_stbar_til1 = ninth_df.iloc[766,5]\n",
    "                total_9th = (ninth_pedc_til1 + ninth_pedc_til2 + ninth_stbar_til1)/3\n",
    "                tenth_file_path = os.path.join(folder_path, files_in_folder[106])\n",
    "                tenth_df = pd.read_csv(tenth_file_path)\n",
    "                tenth_pedc_til1 = tenth_df.iloc[751,5]\n",
    "                tenth_pedc_til2 = tenth_df.iloc[752,5]\n",
    "                tenth_stbar_til1 = tenth_df.iloc[766,5]\n",
    "                total_10th = (tenth_pedc_til1 + tenth_pedc_til2 + tenth_stbar_til1)/3\n",
    "                eleventh_file_path = os.path.join(folder_path, files_in_folder[107])\n",
    "                eleventh_df = pd.read_csv(eleventh_file_path)\n",
    "                eleventh_pedc_til1 = eleventh_df.iloc[751,5]\n",
    "                eleventh_pedc_til2 = eleventh_df.iloc[752,5]\n",
    "                eleventh_stbar_til1 = eleventh_df.iloc[766,5]\n",
    "                total_11th = (eleventh_pedc_til1 + eleventh_pedc_til2 + eleventh_stbar_til1)/3\n",
    "                twelvth_file_path = os.path.join(folder_path, files_in_folder[108])\n",
    "                twelvth_df = pd.read_csv(twelvth_file_path)\n",
    "                twelvth_pedc_til1 = twelvth_df.iloc[751,5]\n",
    "                twelvth_pedc_til2 = twelvth_df.iloc[752,5]\n",
    "                twelvth_stbar_til1 = twelvth_df.iloc[766,5]\n",
    "                total_12th = (twelvth_pedc_til1 + twelvth_pedc_til2 + twelvth_stbar_til1)/3\n",
    "                final_total = (total_1st + total_2nd + total_3rd + total_4th + total_5th + total_6th + total_7th + total_8th + total_9th + total_10th + total_11th + total_12th)/12\n",
    "                print(final_total)"
   ]
  },
  {
   "cell_type": "code",
   "execution_count": 15,
   "metadata": {},
   "outputs": [
    {
     "name": "stdout",
     "output_type": "stream",
     "text": [
      "18564.948\n"
     ]
    }
   ],
   "source": [
    "from datetime import datetime\n",
    "import os\n",
    "import pandas as pd\n",
    "import mysql.connector\n",
    "import time\n",
    "\n",
    "directory = r'C:\\Users\\aslee\\OneDrive - MORE ELECTRIC AND POWER CORPORATION\\Desktop\\DASHBOARD_FINAL\\MORE Trading Node'\n",
    "now = datetime.now()\n",
    "# Example folder name: 20240711\n",
    "date_today = now.strftime(\"%Y%m%d\")\n",
    "contents = os.listdir(directory)\n",
    "for item in contents:\n",
    "    if item == date_today:\n",
    "        folder_path = os.path.join(directory, item) \n",
    "        if os.path.isdir(folder_path):\n",
    "            files_in_folder = os.listdir(folder_path) # MPI_LMP_DIPC_202407110000, etc.\n",
    "            current_hour = now.strftime(\"%H\")\n",
    "            if current_hour == '09':\n",
    "                first_file_path = os.path.join(folder_path, files_in_folder[1])\n",
    "                df = pd.read_csv(first_file_path)\n",
    "                pedc_til1 = df.iloc[751,5]\n",
    "                pedc_til2 = df.iloc[752,5]\n",
    "                stbar_til1 = df.iloc[766,5]\n",
    "                total_1st = (pedc_til1 + pedc_til2 + stbar_til1)/3\n",
    "            elif current_hour == '10':\n",
    "                first_file_path = os.path.join(folder_path, files_in_folder[13])\n",
    "                df = pd.read_csv(first_file_path)\n",
    "                pedc_til1 = df.iloc[751,5]\n",
    "                pedc_til2 = df.iloc[752,5]\n",
    "                stbar_til1 = df.iloc[766,5]\n",
    "                total_1st = (pedc_til1 + pedc_til2 + stbar_til1)/3\n",
    "print(total_1st)"
   ]
  }
 ],
 "metadata": {
  "kernelspec": {
   "display_name": "Python 3",
   "language": "python",
   "name": "python3"
  },
  "language_info": {
   "codemirror_mode": {
    "name": "ipython",
    "version": 3
   },
   "file_extension": ".py",
   "mimetype": "text/x-python",
   "name": "python",
   "nbconvert_exporter": "python",
   "pygments_lexer": "ipython3",
   "version": "3.11.9"
  }
 },
 "nbformat": 4,
 "nbformat_minor": 2
}
