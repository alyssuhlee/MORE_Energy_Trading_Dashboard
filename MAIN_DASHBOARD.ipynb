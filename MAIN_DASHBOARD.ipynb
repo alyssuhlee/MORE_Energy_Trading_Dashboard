{
 "cells": [
  {
   "cell_type": "code",
   "execution_count": 16,
   "metadata": {},
   "outputs": [
    {
     "data": {
      "text/html": [
       "<div>\n",
       "<style scoped>\n",
       "    .dataframe tbody tr th:only-of-type {\n",
       "        vertical-align: middle;\n",
       "    }\n",
       "\n",
       "    .dataframe tbody tr th {\n",
       "        vertical-align: top;\n",
       "    }\n",
       "\n",
       "    .dataframe thead th {\n",
       "        text-align: right;\n",
       "    }\n",
       "</style>\n",
       "<table border=\"1\" class=\"dataframe\">\n",
       "  <thead>\n",
       "    <tr style=\"text-align: right;\">\n",
       "      <th></th>\n",
       "      <th>TIME_MESSAGE</th>\n",
       "      <th>MESSAGE</th>\n",
       "      <th>REGION</th>\n",
       "    </tr>\n",
       "  </thead>\n",
       "  <tbody>\n",
       "    <tr>\n",
       "      <th>0</th>\n",
       "      <td>2024-07-01 12:57:00</td>\n",
       "      <td>[NSO Update] Mindanao Grid-07/01/2024 13:03: G...</td>\n",
       "      <td>CMIN</td>\n",
       "    </tr>\n",
       "    <tr>\n",
       "      <th>1</th>\n",
       "      <td>2024-07-01 12:55:00</td>\n",
       "      <td>[NSO Update] Visayas Grid-07/01/2024 12:55: GR...</td>\n",
       "      <td>CVIS</td>\n",
       "    </tr>\n",
       "    <tr>\n",
       "      <th>2</th>\n",
       "      <td>2024-07-01 12:52:00</td>\n",
       "      <td>[NSO Update] Luzon Grid-07/01/2024 12:52: GRID...</td>\n",
       "      <td>CLUZ</td>\n",
       "    </tr>\n",
       "    <tr>\n",
       "      <th>3</th>\n",
       "      <td>2024-07-01 11:07:00</td>\n",
       "      <td>Mindanao Grid-07/01/2024 11:13: Agus6 U3 shutd...</td>\n",
       "      <td>CMIN</td>\n",
       "    </tr>\n",
       "    <tr>\n",
       "      <th>4</th>\n",
       "      <td>2024-07-01 10:59:00</td>\n",
       "      <td>Mindanao Grid-07/01/2024 11:05: Agus6 U2 onlin...</td>\n",
       "      <td>CMIN</td>\n",
       "    </tr>\n",
       "    <tr>\n",
       "      <th>5</th>\n",
       "      <td>2024-07-01 10:41:00</td>\n",
       "      <td>Mindanao Grid-07/01/2024 10:47: WMPC DG10 Onli...</td>\n",
       "      <td>CMIN</td>\n",
       "    </tr>\n",
       "    <tr>\n",
       "      <th>6</th>\n",
       "      <td>2024-07-01 09:38:00</td>\n",
       "      <td>[NSO Update] Luzon Grid-07/01/2024 09:38: Ormo...</td>\n",
       "      <td>CLUZ</td>\n",
       "    </tr>\n",
       "    <tr>\n",
       "      <th>7</th>\n",
       "      <td>2024-07-01 09:37:00</td>\n",
       "      <td>[NSO Update] Visayas Grid-07/01/2024 09:37: Or...</td>\n",
       "      <td>CVIS</td>\n",
       "    </tr>\n",
       "    <tr>\n",
       "      <th>8</th>\n",
       "      <td>2024-07-01 09:15:00</td>\n",
       "      <td>[NSO Update] Luzon Grid-07/01/2024 09:15: Ormo...</td>\n",
       "      <td>CLUZ</td>\n",
       "    </tr>\n",
       "    <tr>\n",
       "      <th>9</th>\n",
       "      <td>2024-07-01 09:14:00</td>\n",
       "      <td>[NSO Update] Visayas Grid-07/01/2024 09:14: Or...</td>\n",
       "      <td>CVIS</td>\n",
       "    </tr>\n",
       "  </tbody>\n",
       "</table>\n",
       "</div>"
      ],
      "text/plain": [
       "         TIME_MESSAGE                                            MESSAGE  \\\n",
       "0 2024-07-01 12:57:00  [NSO Update] Mindanao Grid-07/01/2024 13:03: G...   \n",
       "1 2024-07-01 12:55:00  [NSO Update] Visayas Grid-07/01/2024 12:55: GR...   \n",
       "2 2024-07-01 12:52:00  [NSO Update] Luzon Grid-07/01/2024 12:52: GRID...   \n",
       "3 2024-07-01 11:07:00  Mindanao Grid-07/01/2024 11:13: Agus6 U3 shutd...   \n",
       "4 2024-07-01 10:59:00  Mindanao Grid-07/01/2024 11:05: Agus6 U2 onlin...   \n",
       "5 2024-07-01 10:41:00  Mindanao Grid-07/01/2024 10:47: WMPC DG10 Onli...   \n",
       "6 2024-07-01 09:38:00  [NSO Update] Luzon Grid-07/01/2024 09:38: Ormo...   \n",
       "7 2024-07-01 09:37:00  [NSO Update] Visayas Grid-07/01/2024 09:37: Or...   \n",
       "8 2024-07-01 09:15:00  [NSO Update] Luzon Grid-07/01/2024 09:15: Ormo...   \n",
       "9 2024-07-01 09:14:00  [NSO Update] Visayas Grid-07/01/2024 09:14: Or...   \n",
       "\n",
       "  REGION  \n",
       "0   CMIN  \n",
       "1   CVIS  \n",
       "2   CLUZ  \n",
       "3   CMIN  \n",
       "4   CMIN  \n",
       "5   CMIN  \n",
       "6   CLUZ  \n",
       "7   CVIS  \n",
       "8   CLUZ  \n",
       "9   CVIS  "
      ]
     },
     "execution_count": 16,
     "metadata": {},
     "output_type": "execute_result"
    }
   ],
   "source": [
    "#Necessary imports\n",
    "import streamlit as st\n",
    "import pandas as pd\n",
    "from query import *\n",
    "\n",
    "st.set_page_config(page_title=\"MEPC Energy Trading Dashboard\", page_icon=\"📊\", layout=\"wide\")\n",
    "st.image(\"data/more-power-logo.png\") #Header\n",
    "\n",
    "# Load your Excel file\n",
    "excel_file = r\"C:\\Users\\aslee\\OneDrive - MORE ELECTRIC AND POWER CORPORATION\\Desktop\\DASHBOARD_FINAL\\so_advisories.xlsx\"\n",
    "df = pd.read_excel(excel_file)\n",
    "\n",
    "# Convert TIME_MESSAGE to datetime format (if it's not already)\n",
    "df['TIME_MESSAGE'] = pd.to_datetime(df['TIME_MESSAGE'], errors='coerce')\n",
    "\n",
    "# Drop rows where TIME_MESSAGE couldn't be converted to datetime (if needed)\n",
    "df = df.dropna(subset=['TIME_MESSAGE'])\n",
    "\n",
    "# Sort dataframe by TIME_MESSAGE in descending order\n",
    "df = df.sort_values(by='TIME_MESSAGE', ascending=False)\n",
    "def fetch_latest_10_entries():\n",
    "    latest_10_entries = df.head(10)\n",
    "    return latest_10_entries\n",
    "\n",
    "fetch_latest_10_entries()"
   ]
  },
  {
   "cell_type": "code",
   "execution_count": 22,
   "metadata": {},
   "outputs": [
    {
     "data": {
      "text/plain": [
       "['07/01/2024 12:57- [NSO Update] Mindanao Grid-07/01/2024 13:03: GRID UPDATE AS OF 1:00 PM System Condition: NORMAL CAP=3300MW, PK=2353MW, RR=73MW, NetOpMargin: PM=875, EVE=1027 Highest Unit O/L: GNPK 1, 2, 3, & 4 @138MW Derated Plant: MCC @150MW, MPC @40MW, MA1 @48.9MW, MA2 @32.5MW [WEBSMS]',\n",
       " '07/01/2024 12:55- [NSO Update] Visayas Grid-07/01/2024 12:55: GRID UPDATE AS OF 1:00 PM System Condition: NORMAL CAP=2685MW, PK=2368MW, RR=91MW, NetOpMargin: PM=226, EVE=226 Highest Unit O/L: THVI 1&2 @169MW Derated Plant: Leyte A @310MW, CEDC 3 @75MW, TGPP @116.5MW, PEDC U3 @120MW, PB101-1 @5.5MW, PB101-2 @5.2MW, PDPP3-G @10MW, PDPP 3-E @8MW, PDPP3-H @8MW, PB104 U2 @4.5MW, PB104 U4 @7MW  [WEBSMS]',\n",
       " '07/01/2024 12:52- [NSO Update] Luzon Grid-07/01/2024 12:52: GRID UPDATE AS OF 1:00 PM System Condition: NORMAL CAP=14522MW, PK=12296MW, RR=424MW, NetOpMargin: PM=1802, EVE=1552 Highest Unit O/L: GNPD 1@668MW Derated Plant: Ilijan A @550MW, GNPD 2 @640MW, Masinloc 1 @315MW, SLTEC 1 @116MW, SLTEC 2 @117MW, Limay 8 @30MW, SCPC 1 @75MW, Masinloc 3 @325MW, Calaca 1 @200MW [WEBSMS]',\n",
       " '07/01/2024 11:07- Mindanao Grid-07/01/2024 11:13: Agus6 U3 shutdown at 1103H. (Planned Outage)  [WEBSMS]',\n",
       " '07/01/2024 10:59- Mindanao Grid-07/01/2024 11:05: Agus6 U2 online at 1052H. (Unplanned Outage)  [WEBSMS]',\n",
       " '07/01/2024 10:41- Mindanao Grid-07/01/2024 10:47: WMPC DG10 Online at 1025H. RPS - System Voltage Requirement.  [WEBSMS]',\n",
       " '07/01/2024 09:38- [NSO Update] Luzon Grid-07/01/2024 09:38: Ormoc-Naga 350kV HVDC (Visayas-Luzon) de-blocked at 0921H power to Visayas.  [WEBSMS]',\n",
       " '07/01/2024 09:37- [NSO Update] Visayas Grid-07/01/2024 09:37: Ormoc-Naga 350kV HVDC (Visayas-Luzon) de-blocked at 0921H power to Visayas.  [WEBSMS]',\n",
       " '07/01/2024 09:15- [NSO Update] Luzon Grid-07/01/2024 09:15: Ormoc-Naga 350kV HVDC (Visayas-Luzon) blocked at 0911H from forward power direction.  [WEBSMS]',\n",
       " '07/01/2024 09:14- [NSO Update] Visayas Grid-07/01/2024 09:14: Ormoc-Naga 350kV HVDC (Visayas-Luzon) blocked at 0911H from forward power direction.  [WEBSMS]']"
      ]
     },
     "execution_count": 22,
     "metadata": {},
     "output_type": "execute_result"
    }
   ],
   "source": [
    "# Prepare the initial data for scrolling\n",
    "scrollable_content = []\n",
    "latest_10_entries = fetch_latest_10_entries()\n",
    "for index, row in latest_10_entries.iterrows():\n",
    "    time_message = row['TIME_MESSAGE'].strftime('%m/%d/%Y %H:%M')\n",
    "    message = row['MESSAGE']\n",
    "    entry_text = f\"{time_message}- {message}\"\n",
    "    scrollable_content.append(entry_text)\n",
    "\n",
    "scrollable_content"
   ]
  },
  {
   "cell_type": "code",
   "execution_count": 14,
   "metadata": {},
   "outputs": [],
   "source": [
    "fetch_latest_10_entries()"
   ]
  },
  {
   "cell_type": "code",
   "execution_count": null,
   "metadata": {},
   "outputs": [],
   "source": [
    "fetch_latest_10_entries()"
   ]
  }
 ],
 "metadata": {
  "kernelspec": {
   "display_name": "Python 3",
   "language": "python",
   "name": "python3"
  },
  "language_info": {
   "codemirror_mode": {
    "name": "ipython",
    "version": 3
   },
   "file_extension": ".py",
   "mimetype": "text/x-python",
   "name": "python",
   "nbconvert_exporter": "python",
   "pygments_lexer": "ipython3",
   "version": "3.11.9"
  }
 },
 "nbformat": 4,
 "nbformat_minor": 2
}
